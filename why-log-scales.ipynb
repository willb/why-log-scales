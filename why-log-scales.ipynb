{
 "cells": [
  {
   "cell_type": "code",
   "execution_count": 1,
   "metadata": {},
   "outputs": [],
   "source": [
    "import pandas as pd\n",
    "import altair as alt"
   ]
  },
  {
   "cell_type": "markdown",
   "metadata": {},
   "source": [
    "We're going to start by constructing a data frame with two streams of samples:  the \"slow\" samples grow by one for every timestamp step, and the \"fast\" samples grow by nineteen for every timestamp step.  Both streams of samples will grow more quickly (but at the same proportions) in last third of our of our dataset, with a large jump in both."
   ]
  },
  {
   "cell_type": "code",
   "execution_count": 2,
   "metadata": {},
   "outputs": [],
   "source": [
    "slow = list(range(1,100)) + [x * 2 for x in range(101,150)]\n",
    "fast = [x * 19 for x in slow]\n",
    "kinds = ([\"slow\"] * len(slow)) + ([\"fast\"] * len(fast))\n",
    "indices = list(range(len(slow))) * 2\n",
    "data = pd.DataFrame({\"timestamp\": indices,\"sample\": slow + fast, \"kind\": kinds})\n"
   ]
  },
  {
   "cell_type": "code",
   "execution_count": 3,
   "metadata": {},
   "outputs": [
    {
     "data": {
      "text/html": [
       "<div>\n",
       "<style scoped>\n",
       "    .dataframe tbody tr th:only-of-type {\n",
       "        vertical-align: middle;\n",
       "    }\n",
       "\n",
       "    .dataframe tbody tr th {\n",
       "        vertical-align: top;\n",
       "    }\n",
       "\n",
       "    .dataframe thead th {\n",
       "        text-align: right;\n",
       "    }\n",
       "</style>\n",
       "<table border=\"1\" class=\"dataframe\">\n",
       "  <thead>\n",
       "    <tr style=\"text-align: right;\">\n",
       "      <th></th>\n",
       "      <th>timestamp</th>\n",
       "      <th>sample</th>\n",
       "      <th>kind</th>\n",
       "    </tr>\n",
       "  </thead>\n",
       "  <tbody>\n",
       "    <tr>\n",
       "      <th>191</th>\n",
       "      <td>43</td>\n",
       "      <td>836</td>\n",
       "      <td>fast</td>\n",
       "    </tr>\n",
       "    <tr>\n",
       "      <th>39</th>\n",
       "      <td>39</td>\n",
       "      <td>40</td>\n",
       "      <td>slow</td>\n",
       "    </tr>\n",
       "    <tr>\n",
       "      <th>295</th>\n",
       "      <td>147</td>\n",
       "      <td>5662</td>\n",
       "      <td>fast</td>\n",
       "    </tr>\n",
       "    <tr>\n",
       "      <th>20</th>\n",
       "      <td>20</td>\n",
       "      <td>21</td>\n",
       "      <td>slow</td>\n",
       "    </tr>\n",
       "    <tr>\n",
       "      <th>183</th>\n",
       "      <td>35</td>\n",
       "      <td>684</td>\n",
       "      <td>fast</td>\n",
       "    </tr>\n",
       "    <tr>\n",
       "      <th>187</th>\n",
       "      <td>39</td>\n",
       "      <td>760</td>\n",
       "      <td>fast</td>\n",
       "    </tr>\n",
       "    <tr>\n",
       "      <th>242</th>\n",
       "      <td>94</td>\n",
       "      <td>1805</td>\n",
       "      <td>fast</td>\n",
       "    </tr>\n",
       "    <tr>\n",
       "      <th>9</th>\n",
       "      <td>9</td>\n",
       "      <td>10</td>\n",
       "      <td>slow</td>\n",
       "    </tr>\n",
       "    <tr>\n",
       "      <th>154</th>\n",
       "      <td>6</td>\n",
       "      <td>133</td>\n",
       "      <td>fast</td>\n",
       "    </tr>\n",
       "    <tr>\n",
       "      <th>165</th>\n",
       "      <td>17</td>\n",
       "      <td>342</td>\n",
       "      <td>fast</td>\n",
       "    </tr>\n",
       "  </tbody>\n",
       "</table>\n",
       "</div>"
      ],
      "text/plain": [
       "     timestamp  sample  kind\n",
       "191         43     836  fast\n",
       "39          39      40  slow\n",
       "295        147    5662  fast\n",
       "20          20      21  slow\n",
       "183         35     684  fast\n",
       "187         39     760  fast\n",
       "242         94    1805  fast\n",
       "9            9      10  slow\n",
       "154          6     133  fast\n",
       "165         17     342  fast"
      ]
     },
     "execution_count": 3,
     "metadata": {},
     "output_type": "execute_result"
    }
   ],
   "source": [
    "data.sample(10)"
   ]
  },
  {
   "cell_type": "markdown",
   "metadata": {},
   "source": [
    "If we plot our data on a linear scale, it isn't obvious that both streams of samples are always growing at the same rate (and, thus, that the proportion of fast to slow quantities never changes):"
   ]
  },
  {
   "cell_type": "code",
   "execution_count": 4,
   "metadata": {},
   "outputs": [
    {
     "data": {
      "text/html": [
       "\n",
       "<div id=\"altair-viz-1\"></div>\n",
       "<script type=\"text/javascript\">\n",
       "  (function(spec, embedOpt){\n",
       "    const outputDiv = document.getElementById(\"altair-viz-1\");\n",
       "    const paths = {\n",
       "      \"vega\": \"https://cdn.jsdelivr.net/npm//vega@5?noext\",\n",
       "      \"vega-lib\": \"https://cdn.jsdelivr.net/npm//vega-lib?noext\",\n",
       "      \"vega-lite\": \"https://cdn.jsdelivr.net/npm//vega-lite@4.0.0?noext\",\n",
       "      \"vega-embed\": \"https://cdn.jsdelivr.net/npm//vega-embed@6?noext\",\n",
       "    };\n",
       "\n",
       "    function loadScript(lib) {\n",
       "      return new Promise(function(resolve, reject) {\n",
       "        var s = document.createElement('script');\n",
       "        s.src = paths[lib];\n",
       "        s.async = true;\n",
       "        s.onload = () => resolve(paths[lib]);\n",
       "        s.onerror = () => reject(`Error loading script: ${paths[lib]}`);\n",
       "        document.getElementsByTagName(\"head\")[0].appendChild(s);\n",
       "      });\n",
       "    }\n",
       "\n",
       "    function showError(err) {\n",
       "      outputDiv.innerHTML = `<div class=\"error\" style=\"color:red;\">${err}</div>`;\n",
       "      throw err;\n",
       "    }\n",
       "\n",
       "    function displayChart(vegaEmbed) {\n",
       "      vegaEmbed(outputDiv, spec, embedOpt)\n",
       "        .catch(err => showError(`Javascript Error: ${err.message}<br>This usually means there's a typo in your chart specification. See the javascript console for the full traceback.`));\n",
       "    }\n",
       "\n",
       "    if(typeof define === \"function\" && define.amd) {\n",
       "      requirejs.config({paths});\n",
       "      require([\"vega-embed\"], displayChart, err => showError(`Error loading script: ${err.message}`));\n",
       "    } else if (typeof vegaEmbed === \"function\") {\n",
       "      displayChart(vegaEmbed);\n",
       "    } else {\n",
       "      loadScript(\"vega\")\n",
       "        .then(() => loadScript(\"vega-lite\"))\n",
       "        .then(() => loadScript(\"vega-embed\"))\n",
       "        .catch(showError)\n",
       "        .then(() => displayChart(vegaEmbed));\n",
       "    }\n",
       "  })({\"config\": {\"view\": {\"continuousWidth\": 400, \"continuousHeight\": 300}}, \"data\": {\"name\": \"data-c0e4e799892ac3de9bf2f639082c7c11\"}, \"mark\": \"line\", \"encoding\": {\"color\": {\"type\": \"nominal\", \"field\": \"kind\"}, \"x\": {\"type\": \"quantitative\", \"field\": \"timestamp\"}, \"y\": {\"type\": \"quantitative\", \"field\": \"sample\"}}, \"$schema\": \"https://vega.github.io/schema/vega-lite/v4.0.0.json\", \"datasets\": {\"data-c0e4e799892ac3de9bf2f639082c7c11\": [{\"timestamp\": 0, \"sample\": 1, \"kind\": \"slow\"}, {\"timestamp\": 1, \"sample\": 2, \"kind\": \"slow\"}, {\"timestamp\": 2, \"sample\": 3, \"kind\": \"slow\"}, {\"timestamp\": 3, \"sample\": 4, \"kind\": \"slow\"}, {\"timestamp\": 4, \"sample\": 5, \"kind\": \"slow\"}, {\"timestamp\": 5, \"sample\": 6, \"kind\": \"slow\"}, {\"timestamp\": 6, \"sample\": 7, \"kind\": \"slow\"}, {\"timestamp\": 7, \"sample\": 8, \"kind\": \"slow\"}, {\"timestamp\": 8, \"sample\": 9, \"kind\": \"slow\"}, {\"timestamp\": 9, \"sample\": 10, \"kind\": \"slow\"}, {\"timestamp\": 10, \"sample\": 11, \"kind\": \"slow\"}, {\"timestamp\": 11, \"sample\": 12, \"kind\": \"slow\"}, {\"timestamp\": 12, \"sample\": 13, \"kind\": \"slow\"}, {\"timestamp\": 13, \"sample\": 14, \"kind\": \"slow\"}, {\"timestamp\": 14, \"sample\": 15, \"kind\": \"slow\"}, {\"timestamp\": 15, \"sample\": 16, \"kind\": \"slow\"}, {\"timestamp\": 16, \"sample\": 17, \"kind\": \"slow\"}, {\"timestamp\": 17, \"sample\": 18, \"kind\": \"slow\"}, {\"timestamp\": 18, \"sample\": 19, \"kind\": \"slow\"}, {\"timestamp\": 19, \"sample\": 20, \"kind\": \"slow\"}, {\"timestamp\": 20, \"sample\": 21, \"kind\": \"slow\"}, {\"timestamp\": 21, \"sample\": 22, \"kind\": \"slow\"}, {\"timestamp\": 22, \"sample\": 23, \"kind\": \"slow\"}, {\"timestamp\": 23, \"sample\": 24, \"kind\": \"slow\"}, {\"timestamp\": 24, \"sample\": 25, \"kind\": \"slow\"}, {\"timestamp\": 25, \"sample\": 26, \"kind\": \"slow\"}, {\"timestamp\": 26, \"sample\": 27, \"kind\": \"slow\"}, {\"timestamp\": 27, \"sample\": 28, \"kind\": \"slow\"}, {\"timestamp\": 28, \"sample\": 29, \"kind\": \"slow\"}, {\"timestamp\": 29, \"sample\": 30, \"kind\": \"slow\"}, {\"timestamp\": 30, \"sample\": 31, \"kind\": \"slow\"}, {\"timestamp\": 31, \"sample\": 32, \"kind\": \"slow\"}, {\"timestamp\": 32, \"sample\": 33, \"kind\": \"slow\"}, {\"timestamp\": 33, \"sample\": 34, \"kind\": \"slow\"}, {\"timestamp\": 34, \"sample\": 35, \"kind\": \"slow\"}, {\"timestamp\": 35, \"sample\": 36, \"kind\": \"slow\"}, {\"timestamp\": 36, \"sample\": 37, \"kind\": \"slow\"}, {\"timestamp\": 37, \"sample\": 38, \"kind\": \"slow\"}, {\"timestamp\": 38, \"sample\": 39, \"kind\": \"slow\"}, {\"timestamp\": 39, \"sample\": 40, \"kind\": \"slow\"}, {\"timestamp\": 40, \"sample\": 41, \"kind\": \"slow\"}, {\"timestamp\": 41, \"sample\": 42, \"kind\": \"slow\"}, {\"timestamp\": 42, \"sample\": 43, \"kind\": \"slow\"}, {\"timestamp\": 43, \"sample\": 44, \"kind\": \"slow\"}, {\"timestamp\": 44, \"sample\": 45, \"kind\": \"slow\"}, {\"timestamp\": 45, \"sample\": 46, \"kind\": \"slow\"}, {\"timestamp\": 46, \"sample\": 47, \"kind\": \"slow\"}, {\"timestamp\": 47, \"sample\": 48, \"kind\": \"slow\"}, {\"timestamp\": 48, \"sample\": 49, \"kind\": \"slow\"}, {\"timestamp\": 49, \"sample\": 50, \"kind\": \"slow\"}, {\"timestamp\": 50, \"sample\": 51, \"kind\": \"slow\"}, {\"timestamp\": 51, \"sample\": 52, \"kind\": \"slow\"}, {\"timestamp\": 52, \"sample\": 53, \"kind\": \"slow\"}, {\"timestamp\": 53, \"sample\": 54, \"kind\": \"slow\"}, {\"timestamp\": 54, \"sample\": 55, \"kind\": \"slow\"}, {\"timestamp\": 55, \"sample\": 56, \"kind\": \"slow\"}, {\"timestamp\": 56, \"sample\": 57, \"kind\": \"slow\"}, {\"timestamp\": 57, \"sample\": 58, \"kind\": \"slow\"}, {\"timestamp\": 58, \"sample\": 59, \"kind\": \"slow\"}, {\"timestamp\": 59, \"sample\": 60, \"kind\": \"slow\"}, {\"timestamp\": 60, \"sample\": 61, \"kind\": \"slow\"}, {\"timestamp\": 61, \"sample\": 62, \"kind\": \"slow\"}, {\"timestamp\": 62, \"sample\": 63, \"kind\": \"slow\"}, {\"timestamp\": 63, \"sample\": 64, \"kind\": \"slow\"}, {\"timestamp\": 64, \"sample\": 65, \"kind\": \"slow\"}, {\"timestamp\": 65, \"sample\": 66, \"kind\": \"slow\"}, {\"timestamp\": 66, \"sample\": 67, \"kind\": \"slow\"}, {\"timestamp\": 67, \"sample\": 68, \"kind\": \"slow\"}, {\"timestamp\": 68, \"sample\": 69, \"kind\": \"slow\"}, {\"timestamp\": 69, \"sample\": 70, \"kind\": \"slow\"}, {\"timestamp\": 70, \"sample\": 71, \"kind\": \"slow\"}, {\"timestamp\": 71, \"sample\": 72, \"kind\": \"slow\"}, {\"timestamp\": 72, \"sample\": 73, \"kind\": \"slow\"}, {\"timestamp\": 73, \"sample\": 74, \"kind\": \"slow\"}, {\"timestamp\": 74, \"sample\": 75, \"kind\": \"slow\"}, {\"timestamp\": 75, \"sample\": 76, \"kind\": \"slow\"}, {\"timestamp\": 76, \"sample\": 77, \"kind\": \"slow\"}, {\"timestamp\": 77, \"sample\": 78, \"kind\": \"slow\"}, {\"timestamp\": 78, \"sample\": 79, \"kind\": \"slow\"}, {\"timestamp\": 79, \"sample\": 80, \"kind\": \"slow\"}, {\"timestamp\": 80, \"sample\": 81, \"kind\": \"slow\"}, {\"timestamp\": 81, \"sample\": 82, \"kind\": \"slow\"}, {\"timestamp\": 82, \"sample\": 83, \"kind\": \"slow\"}, {\"timestamp\": 83, \"sample\": 84, \"kind\": \"slow\"}, {\"timestamp\": 84, \"sample\": 85, \"kind\": \"slow\"}, {\"timestamp\": 85, \"sample\": 86, \"kind\": \"slow\"}, {\"timestamp\": 86, \"sample\": 87, \"kind\": \"slow\"}, {\"timestamp\": 87, \"sample\": 88, \"kind\": \"slow\"}, {\"timestamp\": 88, \"sample\": 89, \"kind\": \"slow\"}, {\"timestamp\": 89, \"sample\": 90, \"kind\": \"slow\"}, {\"timestamp\": 90, \"sample\": 91, \"kind\": \"slow\"}, {\"timestamp\": 91, \"sample\": 92, \"kind\": \"slow\"}, {\"timestamp\": 92, \"sample\": 93, \"kind\": \"slow\"}, {\"timestamp\": 93, \"sample\": 94, \"kind\": \"slow\"}, {\"timestamp\": 94, \"sample\": 95, \"kind\": \"slow\"}, {\"timestamp\": 95, \"sample\": 96, \"kind\": \"slow\"}, {\"timestamp\": 96, \"sample\": 97, \"kind\": \"slow\"}, {\"timestamp\": 97, \"sample\": 98, \"kind\": \"slow\"}, {\"timestamp\": 98, \"sample\": 99, \"kind\": \"slow\"}, {\"timestamp\": 99, \"sample\": 202, \"kind\": \"slow\"}, {\"timestamp\": 100, \"sample\": 204, \"kind\": \"slow\"}, {\"timestamp\": 101, \"sample\": 206, \"kind\": \"slow\"}, {\"timestamp\": 102, \"sample\": 208, \"kind\": \"slow\"}, {\"timestamp\": 103, \"sample\": 210, \"kind\": \"slow\"}, {\"timestamp\": 104, \"sample\": 212, \"kind\": \"slow\"}, {\"timestamp\": 105, \"sample\": 214, \"kind\": \"slow\"}, {\"timestamp\": 106, \"sample\": 216, \"kind\": \"slow\"}, {\"timestamp\": 107, \"sample\": 218, \"kind\": \"slow\"}, {\"timestamp\": 108, \"sample\": 220, \"kind\": \"slow\"}, {\"timestamp\": 109, \"sample\": 222, \"kind\": \"slow\"}, {\"timestamp\": 110, \"sample\": 224, \"kind\": \"slow\"}, {\"timestamp\": 111, \"sample\": 226, \"kind\": \"slow\"}, {\"timestamp\": 112, \"sample\": 228, \"kind\": \"slow\"}, {\"timestamp\": 113, \"sample\": 230, \"kind\": \"slow\"}, {\"timestamp\": 114, \"sample\": 232, \"kind\": \"slow\"}, {\"timestamp\": 115, \"sample\": 234, \"kind\": \"slow\"}, {\"timestamp\": 116, \"sample\": 236, \"kind\": \"slow\"}, {\"timestamp\": 117, \"sample\": 238, \"kind\": \"slow\"}, {\"timestamp\": 118, \"sample\": 240, \"kind\": \"slow\"}, {\"timestamp\": 119, \"sample\": 242, \"kind\": \"slow\"}, {\"timestamp\": 120, \"sample\": 244, \"kind\": \"slow\"}, {\"timestamp\": 121, \"sample\": 246, \"kind\": \"slow\"}, {\"timestamp\": 122, \"sample\": 248, \"kind\": \"slow\"}, {\"timestamp\": 123, \"sample\": 250, \"kind\": \"slow\"}, {\"timestamp\": 124, \"sample\": 252, \"kind\": \"slow\"}, {\"timestamp\": 125, \"sample\": 254, \"kind\": \"slow\"}, {\"timestamp\": 126, \"sample\": 256, \"kind\": \"slow\"}, {\"timestamp\": 127, \"sample\": 258, \"kind\": \"slow\"}, {\"timestamp\": 128, \"sample\": 260, \"kind\": \"slow\"}, {\"timestamp\": 129, \"sample\": 262, \"kind\": \"slow\"}, {\"timestamp\": 130, \"sample\": 264, \"kind\": \"slow\"}, {\"timestamp\": 131, \"sample\": 266, \"kind\": \"slow\"}, {\"timestamp\": 132, \"sample\": 268, \"kind\": \"slow\"}, {\"timestamp\": 133, \"sample\": 270, \"kind\": \"slow\"}, {\"timestamp\": 134, \"sample\": 272, \"kind\": \"slow\"}, {\"timestamp\": 135, \"sample\": 274, \"kind\": \"slow\"}, {\"timestamp\": 136, \"sample\": 276, \"kind\": \"slow\"}, {\"timestamp\": 137, \"sample\": 278, \"kind\": \"slow\"}, {\"timestamp\": 138, \"sample\": 280, \"kind\": \"slow\"}, {\"timestamp\": 139, \"sample\": 282, \"kind\": \"slow\"}, {\"timestamp\": 140, \"sample\": 284, \"kind\": \"slow\"}, {\"timestamp\": 141, \"sample\": 286, \"kind\": \"slow\"}, {\"timestamp\": 142, \"sample\": 288, \"kind\": \"slow\"}, {\"timestamp\": 143, \"sample\": 290, \"kind\": \"slow\"}, {\"timestamp\": 144, \"sample\": 292, \"kind\": \"slow\"}, {\"timestamp\": 145, \"sample\": 294, \"kind\": \"slow\"}, {\"timestamp\": 146, \"sample\": 296, \"kind\": \"slow\"}, {\"timestamp\": 147, \"sample\": 298, \"kind\": \"slow\"}, {\"timestamp\": 0, \"sample\": 19, \"kind\": \"fast\"}, {\"timestamp\": 1, \"sample\": 38, \"kind\": \"fast\"}, {\"timestamp\": 2, \"sample\": 57, \"kind\": \"fast\"}, {\"timestamp\": 3, \"sample\": 76, \"kind\": \"fast\"}, {\"timestamp\": 4, \"sample\": 95, \"kind\": \"fast\"}, {\"timestamp\": 5, \"sample\": 114, \"kind\": \"fast\"}, {\"timestamp\": 6, \"sample\": 133, \"kind\": \"fast\"}, {\"timestamp\": 7, \"sample\": 152, \"kind\": \"fast\"}, {\"timestamp\": 8, \"sample\": 171, \"kind\": \"fast\"}, {\"timestamp\": 9, \"sample\": 190, \"kind\": \"fast\"}, {\"timestamp\": 10, \"sample\": 209, \"kind\": \"fast\"}, {\"timestamp\": 11, \"sample\": 228, \"kind\": \"fast\"}, {\"timestamp\": 12, \"sample\": 247, \"kind\": \"fast\"}, {\"timestamp\": 13, \"sample\": 266, \"kind\": \"fast\"}, {\"timestamp\": 14, \"sample\": 285, \"kind\": \"fast\"}, {\"timestamp\": 15, \"sample\": 304, \"kind\": \"fast\"}, {\"timestamp\": 16, \"sample\": 323, \"kind\": \"fast\"}, {\"timestamp\": 17, \"sample\": 342, \"kind\": \"fast\"}, {\"timestamp\": 18, \"sample\": 361, \"kind\": \"fast\"}, {\"timestamp\": 19, \"sample\": 380, \"kind\": \"fast\"}, {\"timestamp\": 20, \"sample\": 399, \"kind\": \"fast\"}, {\"timestamp\": 21, \"sample\": 418, \"kind\": \"fast\"}, {\"timestamp\": 22, \"sample\": 437, \"kind\": \"fast\"}, {\"timestamp\": 23, \"sample\": 456, \"kind\": \"fast\"}, {\"timestamp\": 24, \"sample\": 475, \"kind\": \"fast\"}, {\"timestamp\": 25, \"sample\": 494, \"kind\": \"fast\"}, {\"timestamp\": 26, \"sample\": 513, \"kind\": \"fast\"}, {\"timestamp\": 27, \"sample\": 532, \"kind\": \"fast\"}, {\"timestamp\": 28, \"sample\": 551, \"kind\": \"fast\"}, {\"timestamp\": 29, \"sample\": 570, \"kind\": \"fast\"}, {\"timestamp\": 30, \"sample\": 589, \"kind\": \"fast\"}, {\"timestamp\": 31, \"sample\": 608, \"kind\": \"fast\"}, {\"timestamp\": 32, \"sample\": 627, \"kind\": \"fast\"}, {\"timestamp\": 33, \"sample\": 646, \"kind\": \"fast\"}, {\"timestamp\": 34, \"sample\": 665, \"kind\": \"fast\"}, {\"timestamp\": 35, \"sample\": 684, \"kind\": \"fast\"}, {\"timestamp\": 36, \"sample\": 703, \"kind\": \"fast\"}, {\"timestamp\": 37, \"sample\": 722, \"kind\": \"fast\"}, {\"timestamp\": 38, \"sample\": 741, \"kind\": \"fast\"}, {\"timestamp\": 39, \"sample\": 760, \"kind\": \"fast\"}, {\"timestamp\": 40, \"sample\": 779, \"kind\": \"fast\"}, {\"timestamp\": 41, \"sample\": 798, \"kind\": \"fast\"}, {\"timestamp\": 42, \"sample\": 817, \"kind\": \"fast\"}, {\"timestamp\": 43, \"sample\": 836, \"kind\": \"fast\"}, {\"timestamp\": 44, \"sample\": 855, \"kind\": \"fast\"}, {\"timestamp\": 45, \"sample\": 874, \"kind\": \"fast\"}, {\"timestamp\": 46, \"sample\": 893, \"kind\": \"fast\"}, {\"timestamp\": 47, \"sample\": 912, \"kind\": \"fast\"}, {\"timestamp\": 48, \"sample\": 931, \"kind\": \"fast\"}, {\"timestamp\": 49, \"sample\": 950, \"kind\": \"fast\"}, {\"timestamp\": 50, \"sample\": 969, \"kind\": \"fast\"}, {\"timestamp\": 51, \"sample\": 988, \"kind\": \"fast\"}, {\"timestamp\": 52, \"sample\": 1007, \"kind\": \"fast\"}, {\"timestamp\": 53, \"sample\": 1026, \"kind\": \"fast\"}, {\"timestamp\": 54, \"sample\": 1045, \"kind\": \"fast\"}, {\"timestamp\": 55, \"sample\": 1064, \"kind\": \"fast\"}, {\"timestamp\": 56, \"sample\": 1083, \"kind\": \"fast\"}, {\"timestamp\": 57, \"sample\": 1102, \"kind\": \"fast\"}, {\"timestamp\": 58, \"sample\": 1121, \"kind\": \"fast\"}, {\"timestamp\": 59, \"sample\": 1140, \"kind\": \"fast\"}, {\"timestamp\": 60, \"sample\": 1159, \"kind\": \"fast\"}, {\"timestamp\": 61, \"sample\": 1178, \"kind\": \"fast\"}, {\"timestamp\": 62, \"sample\": 1197, \"kind\": \"fast\"}, {\"timestamp\": 63, \"sample\": 1216, \"kind\": \"fast\"}, {\"timestamp\": 64, \"sample\": 1235, \"kind\": \"fast\"}, {\"timestamp\": 65, \"sample\": 1254, \"kind\": \"fast\"}, {\"timestamp\": 66, \"sample\": 1273, \"kind\": \"fast\"}, {\"timestamp\": 67, \"sample\": 1292, \"kind\": \"fast\"}, {\"timestamp\": 68, \"sample\": 1311, \"kind\": \"fast\"}, {\"timestamp\": 69, \"sample\": 1330, \"kind\": \"fast\"}, {\"timestamp\": 70, \"sample\": 1349, \"kind\": \"fast\"}, {\"timestamp\": 71, \"sample\": 1368, \"kind\": \"fast\"}, {\"timestamp\": 72, \"sample\": 1387, \"kind\": \"fast\"}, {\"timestamp\": 73, \"sample\": 1406, \"kind\": \"fast\"}, {\"timestamp\": 74, \"sample\": 1425, \"kind\": \"fast\"}, {\"timestamp\": 75, \"sample\": 1444, \"kind\": \"fast\"}, {\"timestamp\": 76, \"sample\": 1463, \"kind\": \"fast\"}, {\"timestamp\": 77, \"sample\": 1482, \"kind\": \"fast\"}, {\"timestamp\": 78, \"sample\": 1501, \"kind\": \"fast\"}, {\"timestamp\": 79, \"sample\": 1520, \"kind\": \"fast\"}, {\"timestamp\": 80, \"sample\": 1539, \"kind\": \"fast\"}, {\"timestamp\": 81, \"sample\": 1558, \"kind\": \"fast\"}, {\"timestamp\": 82, \"sample\": 1577, \"kind\": \"fast\"}, {\"timestamp\": 83, \"sample\": 1596, \"kind\": \"fast\"}, {\"timestamp\": 84, \"sample\": 1615, \"kind\": \"fast\"}, {\"timestamp\": 85, \"sample\": 1634, \"kind\": \"fast\"}, {\"timestamp\": 86, \"sample\": 1653, \"kind\": \"fast\"}, {\"timestamp\": 87, \"sample\": 1672, \"kind\": \"fast\"}, {\"timestamp\": 88, \"sample\": 1691, \"kind\": \"fast\"}, {\"timestamp\": 89, \"sample\": 1710, \"kind\": \"fast\"}, {\"timestamp\": 90, \"sample\": 1729, \"kind\": \"fast\"}, {\"timestamp\": 91, \"sample\": 1748, \"kind\": \"fast\"}, {\"timestamp\": 92, \"sample\": 1767, \"kind\": \"fast\"}, {\"timestamp\": 93, \"sample\": 1786, \"kind\": \"fast\"}, {\"timestamp\": 94, \"sample\": 1805, \"kind\": \"fast\"}, {\"timestamp\": 95, \"sample\": 1824, \"kind\": \"fast\"}, {\"timestamp\": 96, \"sample\": 1843, \"kind\": \"fast\"}, {\"timestamp\": 97, \"sample\": 1862, \"kind\": \"fast\"}, {\"timestamp\": 98, \"sample\": 1881, \"kind\": \"fast\"}, {\"timestamp\": 99, \"sample\": 3838, \"kind\": \"fast\"}, {\"timestamp\": 100, \"sample\": 3876, \"kind\": \"fast\"}, {\"timestamp\": 101, \"sample\": 3914, \"kind\": \"fast\"}, {\"timestamp\": 102, \"sample\": 3952, \"kind\": \"fast\"}, {\"timestamp\": 103, \"sample\": 3990, \"kind\": \"fast\"}, {\"timestamp\": 104, \"sample\": 4028, \"kind\": \"fast\"}, {\"timestamp\": 105, \"sample\": 4066, \"kind\": \"fast\"}, {\"timestamp\": 106, \"sample\": 4104, \"kind\": \"fast\"}, {\"timestamp\": 107, \"sample\": 4142, \"kind\": \"fast\"}, {\"timestamp\": 108, \"sample\": 4180, \"kind\": \"fast\"}, {\"timestamp\": 109, \"sample\": 4218, \"kind\": \"fast\"}, {\"timestamp\": 110, \"sample\": 4256, \"kind\": \"fast\"}, {\"timestamp\": 111, \"sample\": 4294, \"kind\": \"fast\"}, {\"timestamp\": 112, \"sample\": 4332, \"kind\": \"fast\"}, {\"timestamp\": 113, \"sample\": 4370, \"kind\": \"fast\"}, {\"timestamp\": 114, \"sample\": 4408, \"kind\": \"fast\"}, {\"timestamp\": 115, \"sample\": 4446, \"kind\": \"fast\"}, {\"timestamp\": 116, \"sample\": 4484, \"kind\": \"fast\"}, {\"timestamp\": 117, \"sample\": 4522, \"kind\": \"fast\"}, {\"timestamp\": 118, \"sample\": 4560, \"kind\": \"fast\"}, {\"timestamp\": 119, \"sample\": 4598, \"kind\": \"fast\"}, {\"timestamp\": 120, \"sample\": 4636, \"kind\": \"fast\"}, {\"timestamp\": 121, \"sample\": 4674, \"kind\": \"fast\"}, {\"timestamp\": 122, \"sample\": 4712, \"kind\": \"fast\"}, {\"timestamp\": 123, \"sample\": 4750, \"kind\": \"fast\"}, {\"timestamp\": 124, \"sample\": 4788, \"kind\": \"fast\"}, {\"timestamp\": 125, \"sample\": 4826, \"kind\": \"fast\"}, {\"timestamp\": 126, \"sample\": 4864, \"kind\": \"fast\"}, {\"timestamp\": 127, \"sample\": 4902, \"kind\": \"fast\"}, {\"timestamp\": 128, \"sample\": 4940, \"kind\": \"fast\"}, {\"timestamp\": 129, \"sample\": 4978, \"kind\": \"fast\"}, {\"timestamp\": 130, \"sample\": 5016, \"kind\": \"fast\"}, {\"timestamp\": 131, \"sample\": 5054, \"kind\": \"fast\"}, {\"timestamp\": 132, \"sample\": 5092, \"kind\": \"fast\"}, {\"timestamp\": 133, \"sample\": 5130, \"kind\": \"fast\"}, {\"timestamp\": 134, \"sample\": 5168, \"kind\": \"fast\"}, {\"timestamp\": 135, \"sample\": 5206, \"kind\": \"fast\"}, {\"timestamp\": 136, \"sample\": 5244, \"kind\": \"fast\"}, {\"timestamp\": 137, \"sample\": 5282, \"kind\": \"fast\"}, {\"timestamp\": 138, \"sample\": 5320, \"kind\": \"fast\"}, {\"timestamp\": 139, \"sample\": 5358, \"kind\": \"fast\"}, {\"timestamp\": 140, \"sample\": 5396, \"kind\": \"fast\"}, {\"timestamp\": 141, \"sample\": 5434, \"kind\": \"fast\"}, {\"timestamp\": 142, \"sample\": 5472, \"kind\": \"fast\"}, {\"timestamp\": 143, \"sample\": 5510, \"kind\": \"fast\"}, {\"timestamp\": 144, \"sample\": 5548, \"kind\": \"fast\"}, {\"timestamp\": 145, \"sample\": 5586, \"kind\": \"fast\"}, {\"timestamp\": 146, \"sample\": 5624, \"kind\": \"fast\"}, {\"timestamp\": 147, \"sample\": 5662, \"kind\": \"fast\"}]}}, {\"mode\": \"vega-lite\"});\n",
       "</script>"
      ],
      "text/plain": [
       "alt.Chart(...)"
      ]
     },
     "execution_count": 4,
     "metadata": {},
     "output_type": "execute_result"
    }
   ],
   "source": [
    "alt.Chart(data).mark_line().encode(alt.X(\"timestamp\"), \n",
    "                                   alt.Y(\"sample\"), \n",
    "                                   color=\"kind\")\n"
   ]
  },
  {
   "cell_type": "markdown",
   "metadata": {},
   "source": [
    "On a log scale, on the other hand, the slope between two points always corresponds to the rate of change between those points.  Put another way, doubling a quantity means moving a point by the same amount of vertical space no matter how large or small it is.  Since the slopes of these lines are the same, it is obvious that both are growing proportionally -- the vertical distance between both lines is constant."
   ]
  },
  {
   "cell_type": "code",
   "execution_count": 5,
   "metadata": {},
   "outputs": [
    {
     "data": {
      "text/html": [
       "\n",
       "<div id=\"altair-viz-2\"></div>\n",
       "<script type=\"text/javascript\">\n",
       "  (function(spec, embedOpt){\n",
       "    const outputDiv = document.getElementById(\"altair-viz-2\");\n",
       "    const paths = {\n",
       "      \"vega\": \"https://cdn.jsdelivr.net/npm//vega@5?noext\",\n",
       "      \"vega-lib\": \"https://cdn.jsdelivr.net/npm//vega-lib?noext\",\n",
       "      \"vega-lite\": \"https://cdn.jsdelivr.net/npm//vega-lite@4.0.0?noext\",\n",
       "      \"vega-embed\": \"https://cdn.jsdelivr.net/npm//vega-embed@6?noext\",\n",
       "    };\n",
       "\n",
       "    function loadScript(lib) {\n",
       "      return new Promise(function(resolve, reject) {\n",
       "        var s = document.createElement('script');\n",
       "        s.src = paths[lib];\n",
       "        s.async = true;\n",
       "        s.onload = () => resolve(paths[lib]);\n",
       "        s.onerror = () => reject(`Error loading script: ${paths[lib]}`);\n",
       "        document.getElementsByTagName(\"head\")[0].appendChild(s);\n",
       "      });\n",
       "    }\n",
       "\n",
       "    function showError(err) {\n",
       "      outputDiv.innerHTML = `<div class=\"error\" style=\"color:red;\">${err}</div>`;\n",
       "      throw err;\n",
       "    }\n",
       "\n",
       "    function displayChart(vegaEmbed) {\n",
       "      vegaEmbed(outputDiv, spec, embedOpt)\n",
       "        .catch(err => showError(`Javascript Error: ${err.message}<br>This usually means there's a typo in your chart specification. See the javascript console for the full traceback.`));\n",
       "    }\n",
       "\n",
       "    if(typeof define === \"function\" && define.amd) {\n",
       "      requirejs.config({paths});\n",
       "      require([\"vega-embed\"], displayChart, err => showError(`Error loading script: ${err.message}`));\n",
       "    } else if (typeof vegaEmbed === \"function\") {\n",
       "      displayChart(vegaEmbed);\n",
       "    } else {\n",
       "      loadScript(\"vega\")\n",
       "        .then(() => loadScript(\"vega-lite\"))\n",
       "        .then(() => loadScript(\"vega-embed\"))\n",
       "        .catch(showError)\n",
       "        .then(() => displayChart(vegaEmbed));\n",
       "    }\n",
       "  })({\"config\": {\"view\": {\"continuousWidth\": 400, \"continuousHeight\": 300}}, \"data\": {\"name\": \"data-c0e4e799892ac3de9bf2f639082c7c11\"}, \"mark\": \"line\", \"encoding\": {\"color\": {\"type\": \"nominal\", \"field\": \"kind\"}, \"x\": {\"type\": \"quantitative\", \"field\": \"timestamp\"}, \"y\": {\"type\": \"quantitative\", \"field\": \"sample\", \"scale\": {\"type\": \"log\"}}}, \"selection\": {\"selector001\": {\"type\": \"interval\", \"bind\": \"scales\", \"encodings\": [\"x\", \"y\"]}}, \"$schema\": \"https://vega.github.io/schema/vega-lite/v4.0.0.json\", \"datasets\": {\"data-c0e4e799892ac3de9bf2f639082c7c11\": [{\"timestamp\": 0, \"sample\": 1, \"kind\": \"slow\"}, {\"timestamp\": 1, \"sample\": 2, \"kind\": \"slow\"}, {\"timestamp\": 2, \"sample\": 3, \"kind\": \"slow\"}, {\"timestamp\": 3, \"sample\": 4, \"kind\": \"slow\"}, {\"timestamp\": 4, \"sample\": 5, \"kind\": \"slow\"}, {\"timestamp\": 5, \"sample\": 6, \"kind\": \"slow\"}, {\"timestamp\": 6, \"sample\": 7, \"kind\": \"slow\"}, {\"timestamp\": 7, \"sample\": 8, \"kind\": \"slow\"}, {\"timestamp\": 8, \"sample\": 9, \"kind\": \"slow\"}, {\"timestamp\": 9, \"sample\": 10, \"kind\": \"slow\"}, {\"timestamp\": 10, \"sample\": 11, \"kind\": \"slow\"}, {\"timestamp\": 11, \"sample\": 12, \"kind\": \"slow\"}, {\"timestamp\": 12, \"sample\": 13, \"kind\": \"slow\"}, {\"timestamp\": 13, \"sample\": 14, \"kind\": \"slow\"}, {\"timestamp\": 14, \"sample\": 15, \"kind\": \"slow\"}, {\"timestamp\": 15, \"sample\": 16, \"kind\": \"slow\"}, {\"timestamp\": 16, \"sample\": 17, \"kind\": \"slow\"}, {\"timestamp\": 17, \"sample\": 18, \"kind\": \"slow\"}, {\"timestamp\": 18, \"sample\": 19, \"kind\": \"slow\"}, {\"timestamp\": 19, \"sample\": 20, \"kind\": \"slow\"}, {\"timestamp\": 20, \"sample\": 21, \"kind\": \"slow\"}, {\"timestamp\": 21, \"sample\": 22, \"kind\": \"slow\"}, {\"timestamp\": 22, \"sample\": 23, \"kind\": \"slow\"}, {\"timestamp\": 23, \"sample\": 24, \"kind\": \"slow\"}, {\"timestamp\": 24, \"sample\": 25, \"kind\": \"slow\"}, {\"timestamp\": 25, \"sample\": 26, \"kind\": \"slow\"}, {\"timestamp\": 26, \"sample\": 27, \"kind\": \"slow\"}, {\"timestamp\": 27, \"sample\": 28, \"kind\": \"slow\"}, {\"timestamp\": 28, \"sample\": 29, \"kind\": \"slow\"}, {\"timestamp\": 29, \"sample\": 30, \"kind\": \"slow\"}, {\"timestamp\": 30, \"sample\": 31, \"kind\": \"slow\"}, {\"timestamp\": 31, \"sample\": 32, \"kind\": \"slow\"}, {\"timestamp\": 32, \"sample\": 33, \"kind\": \"slow\"}, {\"timestamp\": 33, \"sample\": 34, \"kind\": \"slow\"}, {\"timestamp\": 34, \"sample\": 35, \"kind\": \"slow\"}, {\"timestamp\": 35, \"sample\": 36, \"kind\": \"slow\"}, {\"timestamp\": 36, \"sample\": 37, \"kind\": \"slow\"}, {\"timestamp\": 37, \"sample\": 38, \"kind\": \"slow\"}, {\"timestamp\": 38, \"sample\": 39, \"kind\": \"slow\"}, {\"timestamp\": 39, \"sample\": 40, \"kind\": \"slow\"}, {\"timestamp\": 40, \"sample\": 41, \"kind\": \"slow\"}, {\"timestamp\": 41, \"sample\": 42, \"kind\": \"slow\"}, {\"timestamp\": 42, \"sample\": 43, \"kind\": \"slow\"}, {\"timestamp\": 43, \"sample\": 44, \"kind\": \"slow\"}, {\"timestamp\": 44, \"sample\": 45, \"kind\": \"slow\"}, {\"timestamp\": 45, \"sample\": 46, \"kind\": \"slow\"}, {\"timestamp\": 46, \"sample\": 47, \"kind\": \"slow\"}, {\"timestamp\": 47, \"sample\": 48, \"kind\": \"slow\"}, {\"timestamp\": 48, \"sample\": 49, \"kind\": \"slow\"}, {\"timestamp\": 49, \"sample\": 50, \"kind\": \"slow\"}, {\"timestamp\": 50, \"sample\": 51, \"kind\": \"slow\"}, {\"timestamp\": 51, \"sample\": 52, \"kind\": \"slow\"}, {\"timestamp\": 52, \"sample\": 53, \"kind\": \"slow\"}, {\"timestamp\": 53, \"sample\": 54, \"kind\": \"slow\"}, {\"timestamp\": 54, \"sample\": 55, \"kind\": \"slow\"}, {\"timestamp\": 55, \"sample\": 56, \"kind\": \"slow\"}, {\"timestamp\": 56, \"sample\": 57, \"kind\": \"slow\"}, {\"timestamp\": 57, \"sample\": 58, \"kind\": \"slow\"}, {\"timestamp\": 58, \"sample\": 59, \"kind\": \"slow\"}, {\"timestamp\": 59, \"sample\": 60, \"kind\": \"slow\"}, {\"timestamp\": 60, \"sample\": 61, \"kind\": \"slow\"}, {\"timestamp\": 61, \"sample\": 62, \"kind\": \"slow\"}, {\"timestamp\": 62, \"sample\": 63, \"kind\": \"slow\"}, {\"timestamp\": 63, \"sample\": 64, \"kind\": \"slow\"}, {\"timestamp\": 64, \"sample\": 65, \"kind\": \"slow\"}, {\"timestamp\": 65, \"sample\": 66, \"kind\": \"slow\"}, {\"timestamp\": 66, \"sample\": 67, \"kind\": \"slow\"}, {\"timestamp\": 67, \"sample\": 68, \"kind\": \"slow\"}, {\"timestamp\": 68, \"sample\": 69, \"kind\": \"slow\"}, {\"timestamp\": 69, \"sample\": 70, \"kind\": \"slow\"}, {\"timestamp\": 70, \"sample\": 71, \"kind\": \"slow\"}, {\"timestamp\": 71, \"sample\": 72, \"kind\": \"slow\"}, {\"timestamp\": 72, \"sample\": 73, \"kind\": \"slow\"}, {\"timestamp\": 73, \"sample\": 74, \"kind\": \"slow\"}, {\"timestamp\": 74, \"sample\": 75, \"kind\": \"slow\"}, {\"timestamp\": 75, \"sample\": 76, \"kind\": \"slow\"}, {\"timestamp\": 76, \"sample\": 77, \"kind\": \"slow\"}, {\"timestamp\": 77, \"sample\": 78, \"kind\": \"slow\"}, {\"timestamp\": 78, \"sample\": 79, \"kind\": \"slow\"}, {\"timestamp\": 79, \"sample\": 80, \"kind\": \"slow\"}, {\"timestamp\": 80, \"sample\": 81, \"kind\": \"slow\"}, {\"timestamp\": 81, \"sample\": 82, \"kind\": \"slow\"}, {\"timestamp\": 82, \"sample\": 83, \"kind\": \"slow\"}, {\"timestamp\": 83, \"sample\": 84, \"kind\": \"slow\"}, {\"timestamp\": 84, \"sample\": 85, \"kind\": \"slow\"}, {\"timestamp\": 85, \"sample\": 86, \"kind\": \"slow\"}, {\"timestamp\": 86, \"sample\": 87, \"kind\": \"slow\"}, {\"timestamp\": 87, \"sample\": 88, \"kind\": \"slow\"}, {\"timestamp\": 88, \"sample\": 89, \"kind\": \"slow\"}, {\"timestamp\": 89, \"sample\": 90, \"kind\": \"slow\"}, {\"timestamp\": 90, \"sample\": 91, \"kind\": \"slow\"}, {\"timestamp\": 91, \"sample\": 92, \"kind\": \"slow\"}, {\"timestamp\": 92, \"sample\": 93, \"kind\": \"slow\"}, {\"timestamp\": 93, \"sample\": 94, \"kind\": \"slow\"}, {\"timestamp\": 94, \"sample\": 95, \"kind\": \"slow\"}, {\"timestamp\": 95, \"sample\": 96, \"kind\": \"slow\"}, {\"timestamp\": 96, \"sample\": 97, \"kind\": \"slow\"}, {\"timestamp\": 97, \"sample\": 98, \"kind\": \"slow\"}, {\"timestamp\": 98, \"sample\": 99, \"kind\": \"slow\"}, {\"timestamp\": 99, \"sample\": 202, \"kind\": \"slow\"}, {\"timestamp\": 100, \"sample\": 204, \"kind\": \"slow\"}, {\"timestamp\": 101, \"sample\": 206, \"kind\": \"slow\"}, {\"timestamp\": 102, \"sample\": 208, \"kind\": \"slow\"}, {\"timestamp\": 103, \"sample\": 210, \"kind\": \"slow\"}, {\"timestamp\": 104, \"sample\": 212, \"kind\": \"slow\"}, {\"timestamp\": 105, \"sample\": 214, \"kind\": \"slow\"}, {\"timestamp\": 106, \"sample\": 216, \"kind\": \"slow\"}, {\"timestamp\": 107, \"sample\": 218, \"kind\": \"slow\"}, {\"timestamp\": 108, \"sample\": 220, \"kind\": \"slow\"}, {\"timestamp\": 109, \"sample\": 222, \"kind\": \"slow\"}, {\"timestamp\": 110, \"sample\": 224, \"kind\": \"slow\"}, {\"timestamp\": 111, \"sample\": 226, \"kind\": \"slow\"}, {\"timestamp\": 112, \"sample\": 228, \"kind\": \"slow\"}, {\"timestamp\": 113, \"sample\": 230, \"kind\": \"slow\"}, {\"timestamp\": 114, \"sample\": 232, \"kind\": \"slow\"}, {\"timestamp\": 115, \"sample\": 234, \"kind\": \"slow\"}, {\"timestamp\": 116, \"sample\": 236, \"kind\": \"slow\"}, {\"timestamp\": 117, \"sample\": 238, \"kind\": \"slow\"}, {\"timestamp\": 118, \"sample\": 240, \"kind\": \"slow\"}, {\"timestamp\": 119, \"sample\": 242, \"kind\": \"slow\"}, {\"timestamp\": 120, \"sample\": 244, \"kind\": \"slow\"}, {\"timestamp\": 121, \"sample\": 246, \"kind\": \"slow\"}, {\"timestamp\": 122, \"sample\": 248, \"kind\": \"slow\"}, {\"timestamp\": 123, \"sample\": 250, \"kind\": \"slow\"}, {\"timestamp\": 124, \"sample\": 252, \"kind\": \"slow\"}, {\"timestamp\": 125, \"sample\": 254, \"kind\": \"slow\"}, {\"timestamp\": 126, \"sample\": 256, \"kind\": \"slow\"}, {\"timestamp\": 127, \"sample\": 258, \"kind\": \"slow\"}, {\"timestamp\": 128, \"sample\": 260, \"kind\": \"slow\"}, {\"timestamp\": 129, \"sample\": 262, \"kind\": \"slow\"}, {\"timestamp\": 130, \"sample\": 264, \"kind\": \"slow\"}, {\"timestamp\": 131, \"sample\": 266, \"kind\": \"slow\"}, {\"timestamp\": 132, \"sample\": 268, \"kind\": \"slow\"}, {\"timestamp\": 133, \"sample\": 270, \"kind\": \"slow\"}, {\"timestamp\": 134, \"sample\": 272, \"kind\": \"slow\"}, {\"timestamp\": 135, \"sample\": 274, \"kind\": \"slow\"}, {\"timestamp\": 136, \"sample\": 276, \"kind\": \"slow\"}, {\"timestamp\": 137, \"sample\": 278, \"kind\": \"slow\"}, {\"timestamp\": 138, \"sample\": 280, \"kind\": \"slow\"}, {\"timestamp\": 139, \"sample\": 282, \"kind\": \"slow\"}, {\"timestamp\": 140, \"sample\": 284, \"kind\": \"slow\"}, {\"timestamp\": 141, \"sample\": 286, \"kind\": \"slow\"}, {\"timestamp\": 142, \"sample\": 288, \"kind\": \"slow\"}, {\"timestamp\": 143, \"sample\": 290, \"kind\": \"slow\"}, {\"timestamp\": 144, \"sample\": 292, \"kind\": \"slow\"}, {\"timestamp\": 145, \"sample\": 294, \"kind\": \"slow\"}, {\"timestamp\": 146, \"sample\": 296, \"kind\": \"slow\"}, {\"timestamp\": 147, \"sample\": 298, \"kind\": \"slow\"}, {\"timestamp\": 0, \"sample\": 19, \"kind\": \"fast\"}, {\"timestamp\": 1, \"sample\": 38, \"kind\": \"fast\"}, {\"timestamp\": 2, \"sample\": 57, \"kind\": \"fast\"}, {\"timestamp\": 3, \"sample\": 76, \"kind\": \"fast\"}, {\"timestamp\": 4, \"sample\": 95, \"kind\": \"fast\"}, {\"timestamp\": 5, \"sample\": 114, \"kind\": \"fast\"}, {\"timestamp\": 6, \"sample\": 133, \"kind\": \"fast\"}, {\"timestamp\": 7, \"sample\": 152, \"kind\": \"fast\"}, {\"timestamp\": 8, \"sample\": 171, \"kind\": \"fast\"}, {\"timestamp\": 9, \"sample\": 190, \"kind\": \"fast\"}, {\"timestamp\": 10, \"sample\": 209, \"kind\": \"fast\"}, {\"timestamp\": 11, \"sample\": 228, \"kind\": \"fast\"}, {\"timestamp\": 12, \"sample\": 247, \"kind\": \"fast\"}, {\"timestamp\": 13, \"sample\": 266, \"kind\": \"fast\"}, {\"timestamp\": 14, \"sample\": 285, \"kind\": \"fast\"}, {\"timestamp\": 15, \"sample\": 304, \"kind\": \"fast\"}, {\"timestamp\": 16, \"sample\": 323, \"kind\": \"fast\"}, {\"timestamp\": 17, \"sample\": 342, \"kind\": \"fast\"}, {\"timestamp\": 18, \"sample\": 361, \"kind\": \"fast\"}, {\"timestamp\": 19, \"sample\": 380, \"kind\": \"fast\"}, {\"timestamp\": 20, \"sample\": 399, \"kind\": \"fast\"}, {\"timestamp\": 21, \"sample\": 418, \"kind\": \"fast\"}, {\"timestamp\": 22, \"sample\": 437, \"kind\": \"fast\"}, {\"timestamp\": 23, \"sample\": 456, \"kind\": \"fast\"}, {\"timestamp\": 24, \"sample\": 475, \"kind\": \"fast\"}, {\"timestamp\": 25, \"sample\": 494, \"kind\": \"fast\"}, {\"timestamp\": 26, \"sample\": 513, \"kind\": \"fast\"}, {\"timestamp\": 27, \"sample\": 532, \"kind\": \"fast\"}, {\"timestamp\": 28, \"sample\": 551, \"kind\": \"fast\"}, {\"timestamp\": 29, \"sample\": 570, \"kind\": \"fast\"}, {\"timestamp\": 30, \"sample\": 589, \"kind\": \"fast\"}, {\"timestamp\": 31, \"sample\": 608, \"kind\": \"fast\"}, {\"timestamp\": 32, \"sample\": 627, \"kind\": \"fast\"}, {\"timestamp\": 33, \"sample\": 646, \"kind\": \"fast\"}, {\"timestamp\": 34, \"sample\": 665, \"kind\": \"fast\"}, {\"timestamp\": 35, \"sample\": 684, \"kind\": \"fast\"}, {\"timestamp\": 36, \"sample\": 703, \"kind\": \"fast\"}, {\"timestamp\": 37, \"sample\": 722, \"kind\": \"fast\"}, {\"timestamp\": 38, \"sample\": 741, \"kind\": \"fast\"}, {\"timestamp\": 39, \"sample\": 760, \"kind\": \"fast\"}, {\"timestamp\": 40, \"sample\": 779, \"kind\": \"fast\"}, {\"timestamp\": 41, \"sample\": 798, \"kind\": \"fast\"}, {\"timestamp\": 42, \"sample\": 817, \"kind\": \"fast\"}, {\"timestamp\": 43, \"sample\": 836, \"kind\": \"fast\"}, {\"timestamp\": 44, \"sample\": 855, \"kind\": \"fast\"}, {\"timestamp\": 45, \"sample\": 874, \"kind\": \"fast\"}, {\"timestamp\": 46, \"sample\": 893, \"kind\": \"fast\"}, {\"timestamp\": 47, \"sample\": 912, \"kind\": \"fast\"}, {\"timestamp\": 48, \"sample\": 931, \"kind\": \"fast\"}, {\"timestamp\": 49, \"sample\": 950, \"kind\": \"fast\"}, {\"timestamp\": 50, \"sample\": 969, \"kind\": \"fast\"}, {\"timestamp\": 51, \"sample\": 988, \"kind\": \"fast\"}, {\"timestamp\": 52, \"sample\": 1007, \"kind\": \"fast\"}, {\"timestamp\": 53, \"sample\": 1026, \"kind\": \"fast\"}, {\"timestamp\": 54, \"sample\": 1045, \"kind\": \"fast\"}, {\"timestamp\": 55, \"sample\": 1064, \"kind\": \"fast\"}, {\"timestamp\": 56, \"sample\": 1083, \"kind\": \"fast\"}, {\"timestamp\": 57, \"sample\": 1102, \"kind\": \"fast\"}, {\"timestamp\": 58, \"sample\": 1121, \"kind\": \"fast\"}, {\"timestamp\": 59, \"sample\": 1140, \"kind\": \"fast\"}, {\"timestamp\": 60, \"sample\": 1159, \"kind\": \"fast\"}, {\"timestamp\": 61, \"sample\": 1178, \"kind\": \"fast\"}, {\"timestamp\": 62, \"sample\": 1197, \"kind\": \"fast\"}, {\"timestamp\": 63, \"sample\": 1216, \"kind\": \"fast\"}, {\"timestamp\": 64, \"sample\": 1235, \"kind\": \"fast\"}, {\"timestamp\": 65, \"sample\": 1254, \"kind\": \"fast\"}, {\"timestamp\": 66, \"sample\": 1273, \"kind\": \"fast\"}, {\"timestamp\": 67, \"sample\": 1292, \"kind\": \"fast\"}, {\"timestamp\": 68, \"sample\": 1311, \"kind\": \"fast\"}, {\"timestamp\": 69, \"sample\": 1330, \"kind\": \"fast\"}, {\"timestamp\": 70, \"sample\": 1349, \"kind\": \"fast\"}, {\"timestamp\": 71, \"sample\": 1368, \"kind\": \"fast\"}, {\"timestamp\": 72, \"sample\": 1387, \"kind\": \"fast\"}, {\"timestamp\": 73, \"sample\": 1406, \"kind\": \"fast\"}, {\"timestamp\": 74, \"sample\": 1425, \"kind\": \"fast\"}, {\"timestamp\": 75, \"sample\": 1444, \"kind\": \"fast\"}, {\"timestamp\": 76, \"sample\": 1463, \"kind\": \"fast\"}, {\"timestamp\": 77, \"sample\": 1482, \"kind\": \"fast\"}, {\"timestamp\": 78, \"sample\": 1501, \"kind\": \"fast\"}, {\"timestamp\": 79, \"sample\": 1520, \"kind\": \"fast\"}, {\"timestamp\": 80, \"sample\": 1539, \"kind\": \"fast\"}, {\"timestamp\": 81, \"sample\": 1558, \"kind\": \"fast\"}, {\"timestamp\": 82, \"sample\": 1577, \"kind\": \"fast\"}, {\"timestamp\": 83, \"sample\": 1596, \"kind\": \"fast\"}, {\"timestamp\": 84, \"sample\": 1615, \"kind\": \"fast\"}, {\"timestamp\": 85, \"sample\": 1634, \"kind\": \"fast\"}, {\"timestamp\": 86, \"sample\": 1653, \"kind\": \"fast\"}, {\"timestamp\": 87, \"sample\": 1672, \"kind\": \"fast\"}, {\"timestamp\": 88, \"sample\": 1691, \"kind\": \"fast\"}, {\"timestamp\": 89, \"sample\": 1710, \"kind\": \"fast\"}, {\"timestamp\": 90, \"sample\": 1729, \"kind\": \"fast\"}, {\"timestamp\": 91, \"sample\": 1748, \"kind\": \"fast\"}, {\"timestamp\": 92, \"sample\": 1767, \"kind\": \"fast\"}, {\"timestamp\": 93, \"sample\": 1786, \"kind\": \"fast\"}, {\"timestamp\": 94, \"sample\": 1805, \"kind\": \"fast\"}, {\"timestamp\": 95, \"sample\": 1824, \"kind\": \"fast\"}, {\"timestamp\": 96, \"sample\": 1843, \"kind\": \"fast\"}, {\"timestamp\": 97, \"sample\": 1862, \"kind\": \"fast\"}, {\"timestamp\": 98, \"sample\": 1881, \"kind\": \"fast\"}, {\"timestamp\": 99, \"sample\": 3838, \"kind\": \"fast\"}, {\"timestamp\": 100, \"sample\": 3876, \"kind\": \"fast\"}, {\"timestamp\": 101, \"sample\": 3914, \"kind\": \"fast\"}, {\"timestamp\": 102, \"sample\": 3952, \"kind\": \"fast\"}, {\"timestamp\": 103, \"sample\": 3990, \"kind\": \"fast\"}, {\"timestamp\": 104, \"sample\": 4028, \"kind\": \"fast\"}, {\"timestamp\": 105, \"sample\": 4066, \"kind\": \"fast\"}, {\"timestamp\": 106, \"sample\": 4104, \"kind\": \"fast\"}, {\"timestamp\": 107, \"sample\": 4142, \"kind\": \"fast\"}, {\"timestamp\": 108, \"sample\": 4180, \"kind\": \"fast\"}, {\"timestamp\": 109, \"sample\": 4218, \"kind\": \"fast\"}, {\"timestamp\": 110, \"sample\": 4256, \"kind\": \"fast\"}, {\"timestamp\": 111, \"sample\": 4294, \"kind\": \"fast\"}, {\"timestamp\": 112, \"sample\": 4332, \"kind\": \"fast\"}, {\"timestamp\": 113, \"sample\": 4370, \"kind\": \"fast\"}, {\"timestamp\": 114, \"sample\": 4408, \"kind\": \"fast\"}, {\"timestamp\": 115, \"sample\": 4446, \"kind\": \"fast\"}, {\"timestamp\": 116, \"sample\": 4484, \"kind\": \"fast\"}, {\"timestamp\": 117, \"sample\": 4522, \"kind\": \"fast\"}, {\"timestamp\": 118, \"sample\": 4560, \"kind\": \"fast\"}, {\"timestamp\": 119, \"sample\": 4598, \"kind\": \"fast\"}, {\"timestamp\": 120, \"sample\": 4636, \"kind\": \"fast\"}, {\"timestamp\": 121, \"sample\": 4674, \"kind\": \"fast\"}, {\"timestamp\": 122, \"sample\": 4712, \"kind\": \"fast\"}, {\"timestamp\": 123, \"sample\": 4750, \"kind\": \"fast\"}, {\"timestamp\": 124, \"sample\": 4788, \"kind\": \"fast\"}, {\"timestamp\": 125, \"sample\": 4826, \"kind\": \"fast\"}, {\"timestamp\": 126, \"sample\": 4864, \"kind\": \"fast\"}, {\"timestamp\": 127, \"sample\": 4902, \"kind\": \"fast\"}, {\"timestamp\": 128, \"sample\": 4940, \"kind\": \"fast\"}, {\"timestamp\": 129, \"sample\": 4978, \"kind\": \"fast\"}, {\"timestamp\": 130, \"sample\": 5016, \"kind\": \"fast\"}, {\"timestamp\": 131, \"sample\": 5054, \"kind\": \"fast\"}, {\"timestamp\": 132, \"sample\": 5092, \"kind\": \"fast\"}, {\"timestamp\": 133, \"sample\": 5130, \"kind\": \"fast\"}, {\"timestamp\": 134, \"sample\": 5168, \"kind\": \"fast\"}, {\"timestamp\": 135, \"sample\": 5206, \"kind\": \"fast\"}, {\"timestamp\": 136, \"sample\": 5244, \"kind\": \"fast\"}, {\"timestamp\": 137, \"sample\": 5282, \"kind\": \"fast\"}, {\"timestamp\": 138, \"sample\": 5320, \"kind\": \"fast\"}, {\"timestamp\": 139, \"sample\": 5358, \"kind\": \"fast\"}, {\"timestamp\": 140, \"sample\": 5396, \"kind\": \"fast\"}, {\"timestamp\": 141, \"sample\": 5434, \"kind\": \"fast\"}, {\"timestamp\": 142, \"sample\": 5472, \"kind\": \"fast\"}, {\"timestamp\": 143, \"sample\": 5510, \"kind\": \"fast\"}, {\"timestamp\": 144, \"sample\": 5548, \"kind\": \"fast\"}, {\"timestamp\": 145, \"sample\": 5586, \"kind\": \"fast\"}, {\"timestamp\": 146, \"sample\": 5624, \"kind\": \"fast\"}, {\"timestamp\": 147, \"sample\": 5662, \"kind\": \"fast\"}]}}, {\"mode\": \"vega-lite\"});\n",
       "</script>"
      ],
      "text/plain": [
       "alt.Chart(...)"
      ]
     },
     "execution_count": 5,
     "metadata": {},
     "output_type": "execute_result"
    }
   ],
   "source": [
    "alt.Chart(data).mark_line().encode(alt.X(\"timestamp\"), \n",
    "                                   alt.Y(\"sample\", scale=alt.Scale(type=\"log\")), \n",
    "                                   color=\"kind\").interactive()\n",
    "\n"
   ]
  },
  {
   "cell_type": "markdown",
   "metadata": {},
   "source": [
    "Let's see what happens when the rates of change change over time."
   ]
  },
  {
   "cell_type": "code",
   "execution_count": 6,
   "metadata": {},
   "outputs": [],
   "source": [
    "import numpy as np\n",
    "rates = [(1 + x) / (len(slow) / 6) for x in range(len(slow))]\n",
    "slow2 = list(np.multiply(slow, rates))"
   ]
  },
  {
   "cell_type": "code",
   "execution_count": 7,
   "metadata": {},
   "outputs": [],
   "source": [
    "temp = pd.DataFrame({\"timestamp\": list(range(len(slow))), \n",
    "                     \"kind\": [\"less-slow\"] * len(slow),\n",
    "                     \"sample\": slow2})\n",
    "\n",
    "data2 = pd.concat([temp, data[data[\"kind\"] == \"fast\"]])"
   ]
  },
  {
   "cell_type": "code",
   "execution_count": 8,
   "metadata": {},
   "outputs": [
    {
     "data": {
      "text/html": [
       "<div>\n",
       "<style scoped>\n",
       "    .dataframe tbody tr th:only-of-type {\n",
       "        vertical-align: middle;\n",
       "    }\n",
       "\n",
       "    .dataframe tbody tr th {\n",
       "        vertical-align: top;\n",
       "    }\n",
       "\n",
       "    .dataframe thead th {\n",
       "        text-align: right;\n",
       "    }\n",
       "</style>\n",
       "<table border=\"1\" class=\"dataframe\">\n",
       "  <thead>\n",
       "    <tr style=\"text-align: right;\">\n",
       "      <th></th>\n",
       "      <th>timestamp</th>\n",
       "      <th>kind</th>\n",
       "      <th>sample</th>\n",
       "    </tr>\n",
       "  </thead>\n",
       "  <tbody>\n",
       "    <tr>\n",
       "      <th>0</th>\n",
       "      <td>0</td>\n",
       "      <td>less-slow</td>\n",
       "      <td>0.040541</td>\n",
       "    </tr>\n",
       "    <tr>\n",
       "      <th>1</th>\n",
       "      <td>1</td>\n",
       "      <td>less-slow</td>\n",
       "      <td>0.162162</td>\n",
       "    </tr>\n",
       "    <tr>\n",
       "      <th>2</th>\n",
       "      <td>2</td>\n",
       "      <td>less-slow</td>\n",
       "      <td>0.364865</td>\n",
       "    </tr>\n",
       "    <tr>\n",
       "      <th>3</th>\n",
       "      <td>3</td>\n",
       "      <td>less-slow</td>\n",
       "      <td>0.648649</td>\n",
       "    </tr>\n",
       "    <tr>\n",
       "      <th>4</th>\n",
       "      <td>4</td>\n",
       "      <td>less-slow</td>\n",
       "      <td>1.013514</td>\n",
       "    </tr>\n",
       "    <tr>\n",
       "      <th>...</th>\n",
       "      <td>...</td>\n",
       "      <td>...</td>\n",
       "      <td>...</td>\n",
       "    </tr>\n",
       "    <tr>\n",
       "      <th>291</th>\n",
       "      <td>143</td>\n",
       "      <td>fast</td>\n",
       "      <td>5510.000000</td>\n",
       "    </tr>\n",
       "    <tr>\n",
       "      <th>292</th>\n",
       "      <td>144</td>\n",
       "      <td>fast</td>\n",
       "      <td>5548.000000</td>\n",
       "    </tr>\n",
       "    <tr>\n",
       "      <th>293</th>\n",
       "      <td>145</td>\n",
       "      <td>fast</td>\n",
       "      <td>5586.000000</td>\n",
       "    </tr>\n",
       "    <tr>\n",
       "      <th>294</th>\n",
       "      <td>146</td>\n",
       "      <td>fast</td>\n",
       "      <td>5624.000000</td>\n",
       "    </tr>\n",
       "    <tr>\n",
       "      <th>295</th>\n",
       "      <td>147</td>\n",
       "      <td>fast</td>\n",
       "      <td>5662.000000</td>\n",
       "    </tr>\n",
       "  </tbody>\n",
       "</table>\n",
       "<p>296 rows × 3 columns</p>\n",
       "</div>"
      ],
      "text/plain": [
       "     timestamp       kind       sample\n",
       "0            0  less-slow     0.040541\n",
       "1            1  less-slow     0.162162\n",
       "2            2  less-slow     0.364865\n",
       "3            3  less-slow     0.648649\n",
       "4            4  less-slow     1.013514\n",
       "..         ...        ...          ...\n",
       "291        143       fast  5510.000000\n",
       "292        144       fast  5548.000000\n",
       "293        145       fast  5586.000000\n",
       "294        146       fast  5624.000000\n",
       "295        147       fast  5662.000000\n",
       "\n",
       "[296 rows x 3 columns]"
      ]
     },
     "execution_count": 8,
     "metadata": {},
     "output_type": "execute_result"
    }
   ],
   "source": [
    "data2"
   ]
  },
  {
   "cell_type": "markdown",
   "metadata": {},
   "source": [
    "When we plot the `fast` and `less-slow` series with a linear Y axis, it isn't particularly obvious that the proportion of each kind of sample changes over time even though the less-slow samples are growing five times as fast at the right side of the graph as they were on the left."
   ]
  },
  {
   "cell_type": "code",
   "execution_count": 9,
   "metadata": {},
   "outputs": [
    {
     "data": {
      "text/html": [
       "\n",
       "<div id=\"altair-viz-3\"></div>\n",
       "<script type=\"text/javascript\">\n",
       "  (function(spec, embedOpt){\n",
       "    const outputDiv = document.getElementById(\"altair-viz-3\");\n",
       "    const paths = {\n",
       "      \"vega\": \"https://cdn.jsdelivr.net/npm//vega@5?noext\",\n",
       "      \"vega-lib\": \"https://cdn.jsdelivr.net/npm//vega-lib?noext\",\n",
       "      \"vega-lite\": \"https://cdn.jsdelivr.net/npm//vega-lite@4.0.0?noext\",\n",
       "      \"vega-embed\": \"https://cdn.jsdelivr.net/npm//vega-embed@6?noext\",\n",
       "    };\n",
       "\n",
       "    function loadScript(lib) {\n",
       "      return new Promise(function(resolve, reject) {\n",
       "        var s = document.createElement('script');\n",
       "        s.src = paths[lib];\n",
       "        s.async = true;\n",
       "        s.onload = () => resolve(paths[lib]);\n",
       "        s.onerror = () => reject(`Error loading script: ${paths[lib]}`);\n",
       "        document.getElementsByTagName(\"head\")[0].appendChild(s);\n",
       "      });\n",
       "    }\n",
       "\n",
       "    function showError(err) {\n",
       "      outputDiv.innerHTML = `<div class=\"error\" style=\"color:red;\">${err}</div>`;\n",
       "      throw err;\n",
       "    }\n",
       "\n",
       "    function displayChart(vegaEmbed) {\n",
       "      vegaEmbed(outputDiv, spec, embedOpt)\n",
       "        .catch(err => showError(`Javascript Error: ${err.message}<br>This usually means there's a typo in your chart specification. See the javascript console for the full traceback.`));\n",
       "    }\n",
       "\n",
       "    if(typeof define === \"function\" && define.amd) {\n",
       "      requirejs.config({paths});\n",
       "      require([\"vega-embed\"], displayChart, err => showError(`Error loading script: ${err.message}`));\n",
       "    } else if (typeof vegaEmbed === \"function\") {\n",
       "      displayChart(vegaEmbed);\n",
       "    } else {\n",
       "      loadScript(\"vega\")\n",
       "        .then(() => loadScript(\"vega-lite\"))\n",
       "        .then(() => loadScript(\"vega-embed\"))\n",
       "        .catch(showError)\n",
       "        .then(() => displayChart(vegaEmbed));\n",
       "    }\n",
       "  })({\"config\": {\"view\": {\"continuousWidth\": 400, \"continuousHeight\": 300}}, \"data\": {\"name\": \"data-b71deeb2d61d889cb3f1925e220e702a\"}, \"mark\": \"line\", \"encoding\": {\"color\": {\"type\": \"nominal\", \"field\": \"kind\"}, \"x\": {\"type\": \"quantitative\", \"field\": \"timestamp\"}, \"y\": {\"type\": \"quantitative\", \"field\": \"sample\"}}, \"$schema\": \"https://vega.github.io/schema/vega-lite/v4.0.0.json\", \"datasets\": {\"data-b71deeb2d61d889cb3f1925e220e702a\": [{\"timestamp\": 0, \"kind\": \"less-slow\", \"sample\": 0.040540540540540536}, {\"timestamp\": 1, \"kind\": \"less-slow\", \"sample\": 0.16216216216216214}, {\"timestamp\": 2, \"kind\": \"less-slow\", \"sample\": 0.36486486486486486}, {\"timestamp\": 3, \"kind\": \"less-slow\", \"sample\": 0.6486486486486486}, {\"timestamp\": 4, \"kind\": \"less-slow\", \"sample\": 1.0135135135135134}, {\"timestamp\": 5, \"kind\": \"less-slow\", \"sample\": 1.4594594594594594}, {\"timestamp\": 6, \"kind\": \"less-slow\", \"sample\": 1.9864864864864864}, {\"timestamp\": 7, \"kind\": \"less-slow\", \"sample\": 2.5945945945945943}, {\"timestamp\": 8, \"kind\": \"less-slow\", \"sample\": 3.2837837837837838}, {\"timestamp\": 9, \"kind\": \"less-slow\", \"sample\": 4.0540540540540535}, {\"timestamp\": 10, \"kind\": \"less-slow\", \"sample\": 4.905405405405405}, {\"timestamp\": 11, \"kind\": \"less-slow\", \"sample\": 5.837837837837838}, {\"timestamp\": 12, \"kind\": \"less-slow\", \"sample\": 6.851351351351351}, {\"timestamp\": 13, \"kind\": \"less-slow\", \"sample\": 7.945945945945946}, {\"timestamp\": 14, \"kind\": \"less-slow\", \"sample\": 9.121621621621621}, {\"timestamp\": 15, \"kind\": \"less-slow\", \"sample\": 10.378378378378377}, {\"timestamp\": 16, \"kind\": \"less-slow\", \"sample\": 11.716216216216216}, {\"timestamp\": 17, \"kind\": \"less-slow\", \"sample\": 13.135135135135135}, {\"timestamp\": 18, \"kind\": \"less-slow\", \"sample\": 14.635135135135135}, {\"timestamp\": 19, \"kind\": \"less-slow\", \"sample\": 16.216216216216214}, {\"timestamp\": 20, \"kind\": \"less-slow\", \"sample\": 17.87837837837838}, {\"timestamp\": 21, \"kind\": \"less-slow\", \"sample\": 19.62162162162162}, {\"timestamp\": 22, \"kind\": \"less-slow\", \"sample\": 21.445945945945944}, {\"timestamp\": 23, \"kind\": \"less-slow\", \"sample\": 23.35135135135135}, {\"timestamp\": 24, \"kind\": \"less-slow\", \"sample\": 25.337837837837835}, {\"timestamp\": 25, \"kind\": \"less-slow\", \"sample\": 27.405405405405403}, {\"timestamp\": 26, \"kind\": \"less-slow\", \"sample\": 29.554054054054053}, {\"timestamp\": 27, \"kind\": \"less-slow\", \"sample\": 31.783783783783782}, {\"timestamp\": 28, \"kind\": \"less-slow\", \"sample\": 34.0945945945946}, {\"timestamp\": 29, \"kind\": \"less-slow\", \"sample\": 36.486486486486484}, {\"timestamp\": 30, \"kind\": \"less-slow\", \"sample\": 38.95945945945946}, {\"timestamp\": 31, \"kind\": \"less-slow\", \"sample\": 41.51351351351351}, {\"timestamp\": 32, \"kind\": \"less-slow\", \"sample\": 44.148648648648646}, {\"timestamp\": 33, \"kind\": \"less-slow\", \"sample\": 46.86486486486486}, {\"timestamp\": 34, \"kind\": \"less-slow\", \"sample\": 49.66216216216216}, {\"timestamp\": 35, \"kind\": \"less-slow\", \"sample\": 52.54054054054054}, {\"timestamp\": 36, \"kind\": \"less-slow\", \"sample\": 55.5}, {\"timestamp\": 37, \"kind\": \"less-slow\", \"sample\": 58.54054054054054}, {\"timestamp\": 38, \"kind\": \"less-slow\", \"sample\": 61.662162162162154}, {\"timestamp\": 39, \"kind\": \"less-slow\", \"sample\": 64.86486486486486}, {\"timestamp\": 40, \"kind\": \"less-slow\", \"sample\": 68.14864864864865}, {\"timestamp\": 41, \"kind\": \"less-slow\", \"sample\": 71.51351351351352}, {\"timestamp\": 42, \"kind\": \"less-slow\", \"sample\": 74.95945945945945}, {\"timestamp\": 43, \"kind\": \"less-slow\", \"sample\": 78.48648648648648}, {\"timestamp\": 44, \"kind\": \"less-slow\", \"sample\": 82.0945945945946}, {\"timestamp\": 45, \"kind\": \"less-slow\", \"sample\": 85.78378378378378}, {\"timestamp\": 46, \"kind\": \"less-slow\", \"sample\": 89.55405405405405}, {\"timestamp\": 47, \"kind\": \"less-slow\", \"sample\": 93.4054054054054}, {\"timestamp\": 48, \"kind\": \"less-slow\", \"sample\": 97.33783783783784}, {\"timestamp\": 49, \"kind\": \"less-slow\", \"sample\": 101.35135135135134}, {\"timestamp\": 50, \"kind\": \"less-slow\", \"sample\": 105.44594594594595}, {\"timestamp\": 51, \"kind\": \"less-slow\", \"sample\": 109.62162162162161}, {\"timestamp\": 52, \"kind\": \"less-slow\", \"sample\": 113.87837837837839}, {\"timestamp\": 53, \"kind\": \"less-slow\", \"sample\": 118.21621621621621}, {\"timestamp\": 54, \"kind\": \"less-slow\", \"sample\": 122.63513513513514}, {\"timestamp\": 55, \"kind\": \"less-slow\", \"sample\": 127.13513513513513}, {\"timestamp\": 56, \"kind\": \"less-slow\", \"sample\": 131.7162162162162}, {\"timestamp\": 57, \"kind\": \"less-slow\", \"sample\": 136.3783783783784}, {\"timestamp\": 58, \"kind\": \"less-slow\", \"sample\": 141.1216216216216}, {\"timestamp\": 59, \"kind\": \"less-slow\", \"sample\": 145.94594594594594}, {\"timestamp\": 60, \"kind\": \"less-slow\", \"sample\": 150.85135135135135}, {\"timestamp\": 61, \"kind\": \"less-slow\", \"sample\": 155.83783783783784}, {\"timestamp\": 62, \"kind\": \"less-slow\", \"sample\": 160.9054054054054}, {\"timestamp\": 63, \"kind\": \"less-slow\", \"sample\": 166.05405405405403}, {\"timestamp\": 64, \"kind\": \"less-slow\", \"sample\": 171.28378378378378}, {\"timestamp\": 65, \"kind\": \"less-slow\", \"sample\": 176.59459459459458}, {\"timestamp\": 66, \"kind\": \"less-slow\", \"sample\": 181.98648648648648}, {\"timestamp\": 67, \"kind\": \"less-slow\", \"sample\": 187.45945945945945}, {\"timestamp\": 68, \"kind\": \"less-slow\", \"sample\": 193.01351351351352}, {\"timestamp\": 69, \"kind\": \"less-slow\", \"sample\": 198.64864864864865}, {\"timestamp\": 70, \"kind\": \"less-slow\", \"sample\": 204.36486486486484}, {\"timestamp\": 71, \"kind\": \"less-slow\", \"sample\": 210.16216216216216}, {\"timestamp\": 72, \"kind\": \"less-slow\", \"sample\": 216.04054054054052}, {\"timestamp\": 73, \"kind\": \"less-slow\", \"sample\": 222.0}, {\"timestamp\": 74, \"kind\": \"less-slow\", \"sample\": 228.04054054054052}, {\"timestamp\": 75, \"kind\": \"less-slow\", \"sample\": 234.16216216216216}, {\"timestamp\": 76, \"kind\": \"less-slow\", \"sample\": 240.36486486486484}, {\"timestamp\": 77, \"kind\": \"less-slow\", \"sample\": 246.64864864864862}, {\"timestamp\": 78, \"kind\": \"less-slow\", \"sample\": 253.01351351351352}, {\"timestamp\": 79, \"kind\": \"less-slow\", \"sample\": 259.4594594594594}, {\"timestamp\": 80, \"kind\": \"less-slow\", \"sample\": 265.9864864864865}, {\"timestamp\": 81, \"kind\": \"less-slow\", \"sample\": 272.5945945945946}, {\"timestamp\": 82, \"kind\": \"less-slow\", \"sample\": 279.2837837837838}, {\"timestamp\": 83, \"kind\": \"less-slow\", \"sample\": 286.05405405405406}, {\"timestamp\": 84, \"kind\": \"less-slow\", \"sample\": 292.90540540540536}, {\"timestamp\": 85, \"kind\": \"less-slow\", \"sample\": 299.8378378378378}, {\"timestamp\": 86, \"kind\": \"less-slow\", \"sample\": 306.85135135135135}, {\"timestamp\": 87, \"kind\": \"less-slow\", \"sample\": 313.94594594594594}, {\"timestamp\": 88, \"kind\": \"less-slow\", \"sample\": 321.1216216216216}, {\"timestamp\": 89, \"kind\": \"less-slow\", \"sample\": 328.3783783783784}, {\"timestamp\": 90, \"kind\": \"less-slow\", \"sample\": 335.7162162162162}, {\"timestamp\": 91, \"kind\": \"less-slow\", \"sample\": 343.1351351351351}, {\"timestamp\": 92, \"kind\": \"less-slow\", \"sample\": 350.6351351351351}, {\"timestamp\": 93, \"kind\": \"less-slow\", \"sample\": 358.2162162162162}, {\"timestamp\": 94, \"kind\": \"less-slow\", \"sample\": 365.8783783783784}, {\"timestamp\": 95, \"kind\": \"less-slow\", \"sample\": 373.6216216216216}, {\"timestamp\": 96, \"kind\": \"less-slow\", \"sample\": 381.44594594594594}, {\"timestamp\": 97, \"kind\": \"less-slow\", \"sample\": 389.35135135135135}, {\"timestamp\": 98, \"kind\": \"less-slow\", \"sample\": 397.3378378378378}, {\"timestamp\": 99, \"kind\": \"less-slow\", \"sample\": 818.9189189189188}, {\"timestamp\": 100, \"kind\": \"less-slow\", \"sample\": 835.2972972972973}, {\"timestamp\": 101, \"kind\": \"less-slow\", \"sample\": 851.8378378378378}, {\"timestamp\": 102, \"kind\": \"less-slow\", \"sample\": 868.5405405405405}, {\"timestamp\": 103, \"kind\": \"less-slow\", \"sample\": 885.4054054054053}, {\"timestamp\": 104, \"kind\": \"less-slow\", \"sample\": 902.4324324324323}, {\"timestamp\": 105, \"kind\": \"less-slow\", \"sample\": 919.6216216216217}, {\"timestamp\": 106, \"kind\": \"less-slow\", \"sample\": 936.9729729729729}, {\"timestamp\": 107, \"kind\": \"less-slow\", \"sample\": 954.4864864864865}, {\"timestamp\": 108, \"kind\": \"less-slow\", \"sample\": 972.1621621621621}, {\"timestamp\": 109, \"kind\": \"less-slow\", \"sample\": 990.0}, {\"timestamp\": 110, \"kind\": \"less-slow\", \"sample\": 1008.0}, {\"timestamp\": 111, \"kind\": \"less-slow\", \"sample\": 1026.162162162162}, {\"timestamp\": 112, \"kind\": \"less-slow\", \"sample\": 1044.4864864864865}, {\"timestamp\": 113, \"kind\": \"less-slow\", \"sample\": 1062.972972972973}, {\"timestamp\": 114, \"kind\": \"less-slow\", \"sample\": 1081.6216216216217}, {\"timestamp\": 115, \"kind\": \"less-slow\", \"sample\": 1100.4324324324325}, {\"timestamp\": 116, \"kind\": \"less-slow\", \"sample\": 1119.4054054054054}, {\"timestamp\": 117, \"kind\": \"less-slow\", \"sample\": 1138.5405405405404}, {\"timestamp\": 118, \"kind\": \"less-slow\", \"sample\": 1157.8378378378377}, {\"timestamp\": 119, \"kind\": \"less-slow\", \"sample\": 1177.2972972972973}, {\"timestamp\": 120, \"kind\": \"less-slow\", \"sample\": 1196.918918918919}, {\"timestamp\": 121, \"kind\": \"less-slow\", \"sample\": 1216.7027027027027}, {\"timestamp\": 122, \"kind\": \"less-slow\", \"sample\": 1236.6486486486485}, {\"timestamp\": 123, \"kind\": \"less-slow\", \"sample\": 1256.7567567567569}, {\"timestamp\": 124, \"kind\": \"less-slow\", \"sample\": 1277.027027027027}, {\"timestamp\": 125, \"kind\": \"less-slow\", \"sample\": 1297.4594594594594}, {\"timestamp\": 126, \"kind\": \"less-slow\", \"sample\": 1318.054054054054}, {\"timestamp\": 127, \"kind\": \"less-slow\", \"sample\": 1338.8108108108106}, {\"timestamp\": 128, \"kind\": \"less-slow\", \"sample\": 1359.7297297297298}, {\"timestamp\": 129, \"kind\": \"less-slow\", \"sample\": 1380.8108108108108}, {\"timestamp\": 130, \"kind\": \"less-slow\", \"sample\": 1402.054054054054}, {\"timestamp\": 131, \"kind\": \"less-slow\", \"sample\": 1423.4594594594594}, {\"timestamp\": 132, \"kind\": \"less-slow\", \"sample\": 1445.0270270270269}, {\"timestamp\": 133, \"kind\": \"less-slow\", \"sample\": 1466.7567567567567}, {\"timestamp\": 134, \"kind\": \"less-slow\", \"sample\": 1488.6486486486485}, {\"timestamp\": 135, \"kind\": \"less-slow\", \"sample\": 1510.7027027027027}, {\"timestamp\": 136, \"kind\": \"less-slow\", \"sample\": 1532.9189189189187}, {\"timestamp\": 137, \"kind\": \"less-slow\", \"sample\": 1555.2972972972973}, {\"timestamp\": 138, \"kind\": \"less-slow\", \"sample\": 1577.837837837838}, {\"timestamp\": 139, \"kind\": \"less-slow\", \"sample\": 1600.5405405405404}, {\"timestamp\": 140, \"kind\": \"less-slow\", \"sample\": 1623.4054054054052}, {\"timestamp\": 141, \"kind\": \"less-slow\", \"sample\": 1646.4324324324323}, {\"timestamp\": 142, \"kind\": \"less-slow\", \"sample\": 1669.6216216216217}, {\"timestamp\": 143, \"kind\": \"less-slow\", \"sample\": 1692.972972972973}, {\"timestamp\": 144, \"kind\": \"less-slow\", \"sample\": 1716.4864864864865}, {\"timestamp\": 145, \"kind\": \"less-slow\", \"sample\": 1740.162162162162}, {\"timestamp\": 146, \"kind\": \"less-slow\", \"sample\": 1763.9999999999998}, {\"timestamp\": 147, \"kind\": \"less-slow\", \"sample\": 1788.0}, {\"timestamp\": 0, \"kind\": \"fast\", \"sample\": 19.0}, {\"timestamp\": 1, \"kind\": \"fast\", \"sample\": 38.0}, {\"timestamp\": 2, \"kind\": \"fast\", \"sample\": 57.0}, {\"timestamp\": 3, \"kind\": \"fast\", \"sample\": 76.0}, {\"timestamp\": 4, \"kind\": \"fast\", \"sample\": 95.0}, {\"timestamp\": 5, \"kind\": \"fast\", \"sample\": 114.0}, {\"timestamp\": 6, \"kind\": \"fast\", \"sample\": 133.0}, {\"timestamp\": 7, \"kind\": \"fast\", \"sample\": 152.0}, {\"timestamp\": 8, \"kind\": \"fast\", \"sample\": 171.0}, {\"timestamp\": 9, \"kind\": \"fast\", \"sample\": 190.0}, {\"timestamp\": 10, \"kind\": \"fast\", \"sample\": 209.0}, {\"timestamp\": 11, \"kind\": \"fast\", \"sample\": 228.0}, {\"timestamp\": 12, \"kind\": \"fast\", \"sample\": 247.0}, {\"timestamp\": 13, \"kind\": \"fast\", \"sample\": 266.0}, {\"timestamp\": 14, \"kind\": \"fast\", \"sample\": 285.0}, {\"timestamp\": 15, \"kind\": \"fast\", \"sample\": 304.0}, {\"timestamp\": 16, \"kind\": \"fast\", \"sample\": 323.0}, {\"timestamp\": 17, \"kind\": \"fast\", \"sample\": 342.0}, {\"timestamp\": 18, \"kind\": \"fast\", \"sample\": 361.0}, {\"timestamp\": 19, \"kind\": \"fast\", \"sample\": 380.0}, {\"timestamp\": 20, \"kind\": \"fast\", \"sample\": 399.0}, {\"timestamp\": 21, \"kind\": \"fast\", \"sample\": 418.0}, {\"timestamp\": 22, \"kind\": \"fast\", \"sample\": 437.0}, {\"timestamp\": 23, \"kind\": \"fast\", \"sample\": 456.0}, {\"timestamp\": 24, \"kind\": \"fast\", \"sample\": 475.0}, {\"timestamp\": 25, \"kind\": \"fast\", \"sample\": 494.0}, {\"timestamp\": 26, \"kind\": \"fast\", \"sample\": 513.0}, {\"timestamp\": 27, \"kind\": \"fast\", \"sample\": 532.0}, {\"timestamp\": 28, \"kind\": \"fast\", \"sample\": 551.0}, {\"timestamp\": 29, \"kind\": \"fast\", \"sample\": 570.0}, {\"timestamp\": 30, \"kind\": \"fast\", \"sample\": 589.0}, {\"timestamp\": 31, \"kind\": \"fast\", \"sample\": 608.0}, {\"timestamp\": 32, \"kind\": \"fast\", \"sample\": 627.0}, {\"timestamp\": 33, \"kind\": \"fast\", \"sample\": 646.0}, {\"timestamp\": 34, \"kind\": \"fast\", \"sample\": 665.0}, {\"timestamp\": 35, \"kind\": \"fast\", \"sample\": 684.0}, {\"timestamp\": 36, \"kind\": \"fast\", \"sample\": 703.0}, {\"timestamp\": 37, \"kind\": \"fast\", \"sample\": 722.0}, {\"timestamp\": 38, \"kind\": \"fast\", \"sample\": 741.0}, {\"timestamp\": 39, \"kind\": \"fast\", \"sample\": 760.0}, {\"timestamp\": 40, \"kind\": \"fast\", \"sample\": 779.0}, {\"timestamp\": 41, \"kind\": \"fast\", \"sample\": 798.0}, {\"timestamp\": 42, \"kind\": \"fast\", \"sample\": 817.0}, {\"timestamp\": 43, \"kind\": \"fast\", \"sample\": 836.0}, {\"timestamp\": 44, \"kind\": \"fast\", \"sample\": 855.0}, {\"timestamp\": 45, \"kind\": \"fast\", \"sample\": 874.0}, {\"timestamp\": 46, \"kind\": \"fast\", \"sample\": 893.0}, {\"timestamp\": 47, \"kind\": \"fast\", \"sample\": 912.0}, {\"timestamp\": 48, \"kind\": \"fast\", \"sample\": 931.0}, {\"timestamp\": 49, \"kind\": \"fast\", \"sample\": 950.0}, {\"timestamp\": 50, \"kind\": \"fast\", \"sample\": 969.0}, {\"timestamp\": 51, \"kind\": \"fast\", \"sample\": 988.0}, {\"timestamp\": 52, \"kind\": \"fast\", \"sample\": 1007.0}, {\"timestamp\": 53, \"kind\": \"fast\", \"sample\": 1026.0}, {\"timestamp\": 54, \"kind\": \"fast\", \"sample\": 1045.0}, {\"timestamp\": 55, \"kind\": \"fast\", \"sample\": 1064.0}, {\"timestamp\": 56, \"kind\": \"fast\", \"sample\": 1083.0}, {\"timestamp\": 57, \"kind\": \"fast\", \"sample\": 1102.0}, {\"timestamp\": 58, \"kind\": \"fast\", \"sample\": 1121.0}, {\"timestamp\": 59, \"kind\": \"fast\", \"sample\": 1140.0}, {\"timestamp\": 60, \"kind\": \"fast\", \"sample\": 1159.0}, {\"timestamp\": 61, \"kind\": \"fast\", \"sample\": 1178.0}, {\"timestamp\": 62, \"kind\": \"fast\", \"sample\": 1197.0}, {\"timestamp\": 63, \"kind\": \"fast\", \"sample\": 1216.0}, {\"timestamp\": 64, \"kind\": \"fast\", \"sample\": 1235.0}, {\"timestamp\": 65, \"kind\": \"fast\", \"sample\": 1254.0}, {\"timestamp\": 66, \"kind\": \"fast\", \"sample\": 1273.0}, {\"timestamp\": 67, \"kind\": \"fast\", \"sample\": 1292.0}, {\"timestamp\": 68, \"kind\": \"fast\", \"sample\": 1311.0}, {\"timestamp\": 69, \"kind\": \"fast\", \"sample\": 1330.0}, {\"timestamp\": 70, \"kind\": \"fast\", \"sample\": 1349.0}, {\"timestamp\": 71, \"kind\": \"fast\", \"sample\": 1368.0}, {\"timestamp\": 72, \"kind\": \"fast\", \"sample\": 1387.0}, {\"timestamp\": 73, \"kind\": \"fast\", \"sample\": 1406.0}, {\"timestamp\": 74, \"kind\": \"fast\", \"sample\": 1425.0}, {\"timestamp\": 75, \"kind\": \"fast\", \"sample\": 1444.0}, {\"timestamp\": 76, \"kind\": \"fast\", \"sample\": 1463.0}, {\"timestamp\": 77, \"kind\": \"fast\", \"sample\": 1482.0}, {\"timestamp\": 78, \"kind\": \"fast\", \"sample\": 1501.0}, {\"timestamp\": 79, \"kind\": \"fast\", \"sample\": 1520.0}, {\"timestamp\": 80, \"kind\": \"fast\", \"sample\": 1539.0}, {\"timestamp\": 81, \"kind\": \"fast\", \"sample\": 1558.0}, {\"timestamp\": 82, \"kind\": \"fast\", \"sample\": 1577.0}, {\"timestamp\": 83, \"kind\": \"fast\", \"sample\": 1596.0}, {\"timestamp\": 84, \"kind\": \"fast\", \"sample\": 1615.0}, {\"timestamp\": 85, \"kind\": \"fast\", \"sample\": 1634.0}, {\"timestamp\": 86, \"kind\": \"fast\", \"sample\": 1653.0}, {\"timestamp\": 87, \"kind\": \"fast\", \"sample\": 1672.0}, {\"timestamp\": 88, \"kind\": \"fast\", \"sample\": 1691.0}, {\"timestamp\": 89, \"kind\": \"fast\", \"sample\": 1710.0}, {\"timestamp\": 90, \"kind\": \"fast\", \"sample\": 1729.0}, {\"timestamp\": 91, \"kind\": \"fast\", \"sample\": 1748.0}, {\"timestamp\": 92, \"kind\": \"fast\", \"sample\": 1767.0}, {\"timestamp\": 93, \"kind\": \"fast\", \"sample\": 1786.0}, {\"timestamp\": 94, \"kind\": \"fast\", \"sample\": 1805.0}, {\"timestamp\": 95, \"kind\": \"fast\", \"sample\": 1824.0}, {\"timestamp\": 96, \"kind\": \"fast\", \"sample\": 1843.0}, {\"timestamp\": 97, \"kind\": \"fast\", \"sample\": 1862.0}, {\"timestamp\": 98, \"kind\": \"fast\", \"sample\": 1881.0}, {\"timestamp\": 99, \"kind\": \"fast\", \"sample\": 3838.0}, {\"timestamp\": 100, \"kind\": \"fast\", \"sample\": 3876.0}, {\"timestamp\": 101, \"kind\": \"fast\", \"sample\": 3914.0}, {\"timestamp\": 102, \"kind\": \"fast\", \"sample\": 3952.0}, {\"timestamp\": 103, \"kind\": \"fast\", \"sample\": 3990.0}, {\"timestamp\": 104, \"kind\": \"fast\", \"sample\": 4028.0}, {\"timestamp\": 105, \"kind\": \"fast\", \"sample\": 4066.0}, {\"timestamp\": 106, \"kind\": \"fast\", \"sample\": 4104.0}, {\"timestamp\": 107, \"kind\": \"fast\", \"sample\": 4142.0}, {\"timestamp\": 108, \"kind\": \"fast\", \"sample\": 4180.0}, {\"timestamp\": 109, \"kind\": \"fast\", \"sample\": 4218.0}, {\"timestamp\": 110, \"kind\": \"fast\", \"sample\": 4256.0}, {\"timestamp\": 111, \"kind\": \"fast\", \"sample\": 4294.0}, {\"timestamp\": 112, \"kind\": \"fast\", \"sample\": 4332.0}, {\"timestamp\": 113, \"kind\": \"fast\", \"sample\": 4370.0}, {\"timestamp\": 114, \"kind\": \"fast\", \"sample\": 4408.0}, {\"timestamp\": 115, \"kind\": \"fast\", \"sample\": 4446.0}, {\"timestamp\": 116, \"kind\": \"fast\", \"sample\": 4484.0}, {\"timestamp\": 117, \"kind\": \"fast\", \"sample\": 4522.0}, {\"timestamp\": 118, \"kind\": \"fast\", \"sample\": 4560.0}, {\"timestamp\": 119, \"kind\": \"fast\", \"sample\": 4598.0}, {\"timestamp\": 120, \"kind\": \"fast\", \"sample\": 4636.0}, {\"timestamp\": 121, \"kind\": \"fast\", \"sample\": 4674.0}, {\"timestamp\": 122, \"kind\": \"fast\", \"sample\": 4712.0}, {\"timestamp\": 123, \"kind\": \"fast\", \"sample\": 4750.0}, {\"timestamp\": 124, \"kind\": \"fast\", \"sample\": 4788.0}, {\"timestamp\": 125, \"kind\": \"fast\", \"sample\": 4826.0}, {\"timestamp\": 126, \"kind\": \"fast\", \"sample\": 4864.0}, {\"timestamp\": 127, \"kind\": \"fast\", \"sample\": 4902.0}, {\"timestamp\": 128, \"kind\": \"fast\", \"sample\": 4940.0}, {\"timestamp\": 129, \"kind\": \"fast\", \"sample\": 4978.0}, {\"timestamp\": 130, \"kind\": \"fast\", \"sample\": 5016.0}, {\"timestamp\": 131, \"kind\": \"fast\", \"sample\": 5054.0}, {\"timestamp\": 132, \"kind\": \"fast\", \"sample\": 5092.0}, {\"timestamp\": 133, \"kind\": \"fast\", \"sample\": 5130.0}, {\"timestamp\": 134, \"kind\": \"fast\", \"sample\": 5168.0}, {\"timestamp\": 135, \"kind\": \"fast\", \"sample\": 5206.0}, {\"timestamp\": 136, \"kind\": \"fast\", \"sample\": 5244.0}, {\"timestamp\": 137, \"kind\": \"fast\", \"sample\": 5282.0}, {\"timestamp\": 138, \"kind\": \"fast\", \"sample\": 5320.0}, {\"timestamp\": 139, \"kind\": \"fast\", \"sample\": 5358.0}, {\"timestamp\": 140, \"kind\": \"fast\", \"sample\": 5396.0}, {\"timestamp\": 141, \"kind\": \"fast\", \"sample\": 5434.0}, {\"timestamp\": 142, \"kind\": \"fast\", \"sample\": 5472.0}, {\"timestamp\": 143, \"kind\": \"fast\", \"sample\": 5510.0}, {\"timestamp\": 144, \"kind\": \"fast\", \"sample\": 5548.0}, {\"timestamp\": 145, \"kind\": \"fast\", \"sample\": 5586.0}, {\"timestamp\": 146, \"kind\": \"fast\", \"sample\": 5624.0}, {\"timestamp\": 147, \"kind\": \"fast\", \"sample\": 5662.0}]}}, {\"mode\": \"vega-lite\"});\n",
       "</script>"
      ],
      "text/plain": [
       "alt.Chart(...)"
      ]
     },
     "execution_count": 9,
     "metadata": {},
     "output_type": "execute_result"
    }
   ],
   "source": [
    "alt.Chart(data2).mark_line().encode(alt.X(\"timestamp\"), \n",
    "                                    alt.Y(\"sample\"), \n",
    "                                    color=\"kind\")\n",
    "\n"
   ]
  },
  {
   "cell_type": "markdown",
   "metadata": {},
   "source": [
    "If we use a log scale, on the other hand, we can see that the slopes diverge over time because the lines are closer to one another on the right side of the graph than they were on the left side of the graph."
   ]
  },
  {
   "cell_type": "code",
   "execution_count": 10,
   "metadata": {},
   "outputs": [
    {
     "data": {
      "text/html": [
       "\n",
       "<div id=\"altair-viz-4\"></div>\n",
       "<script type=\"text/javascript\">\n",
       "  (function(spec, embedOpt){\n",
       "    const outputDiv = document.getElementById(\"altair-viz-4\");\n",
       "    const paths = {\n",
       "      \"vega\": \"https://cdn.jsdelivr.net/npm//vega@5?noext\",\n",
       "      \"vega-lib\": \"https://cdn.jsdelivr.net/npm//vega-lib?noext\",\n",
       "      \"vega-lite\": \"https://cdn.jsdelivr.net/npm//vega-lite@4.0.0?noext\",\n",
       "      \"vega-embed\": \"https://cdn.jsdelivr.net/npm//vega-embed@6?noext\",\n",
       "    };\n",
       "\n",
       "    function loadScript(lib) {\n",
       "      return new Promise(function(resolve, reject) {\n",
       "        var s = document.createElement('script');\n",
       "        s.src = paths[lib];\n",
       "        s.async = true;\n",
       "        s.onload = () => resolve(paths[lib]);\n",
       "        s.onerror = () => reject(`Error loading script: ${paths[lib]}`);\n",
       "        document.getElementsByTagName(\"head\")[0].appendChild(s);\n",
       "      });\n",
       "    }\n",
       "\n",
       "    function showError(err) {\n",
       "      outputDiv.innerHTML = `<div class=\"error\" style=\"color:red;\">${err}</div>`;\n",
       "      throw err;\n",
       "    }\n",
       "\n",
       "    function displayChart(vegaEmbed) {\n",
       "      vegaEmbed(outputDiv, spec, embedOpt)\n",
       "        .catch(err => showError(`Javascript Error: ${err.message}<br>This usually means there's a typo in your chart specification. See the javascript console for the full traceback.`));\n",
       "    }\n",
       "\n",
       "    if(typeof define === \"function\" && define.amd) {\n",
       "      requirejs.config({paths});\n",
       "      require([\"vega-embed\"], displayChart, err => showError(`Error loading script: ${err.message}`));\n",
       "    } else if (typeof vegaEmbed === \"function\") {\n",
       "      displayChart(vegaEmbed);\n",
       "    } else {\n",
       "      loadScript(\"vega\")\n",
       "        .then(() => loadScript(\"vega-lite\"))\n",
       "        .then(() => loadScript(\"vega-embed\"))\n",
       "        .catch(showError)\n",
       "        .then(() => displayChart(vegaEmbed));\n",
       "    }\n",
       "  })({\"config\": {\"view\": {\"continuousWidth\": 400, \"continuousHeight\": 300}}, \"data\": {\"name\": \"data-b71deeb2d61d889cb3f1925e220e702a\"}, \"mark\": \"line\", \"encoding\": {\"color\": {\"type\": \"nominal\", \"field\": \"kind\"}, \"x\": {\"type\": \"quantitative\", \"field\": \"timestamp\"}, \"y\": {\"type\": \"quantitative\", \"field\": \"sample\", \"scale\": {\"type\": \"log\"}}}, \"selection\": {\"selector002\": {\"type\": \"interval\", \"bind\": \"scales\", \"encodings\": [\"x\", \"y\"]}}, \"$schema\": \"https://vega.github.io/schema/vega-lite/v4.0.0.json\", \"datasets\": {\"data-b71deeb2d61d889cb3f1925e220e702a\": [{\"timestamp\": 0, \"kind\": \"less-slow\", \"sample\": 0.040540540540540536}, {\"timestamp\": 1, \"kind\": \"less-slow\", \"sample\": 0.16216216216216214}, {\"timestamp\": 2, \"kind\": \"less-slow\", \"sample\": 0.36486486486486486}, {\"timestamp\": 3, \"kind\": \"less-slow\", \"sample\": 0.6486486486486486}, {\"timestamp\": 4, \"kind\": \"less-slow\", \"sample\": 1.0135135135135134}, {\"timestamp\": 5, \"kind\": \"less-slow\", \"sample\": 1.4594594594594594}, {\"timestamp\": 6, \"kind\": \"less-slow\", \"sample\": 1.9864864864864864}, {\"timestamp\": 7, \"kind\": \"less-slow\", \"sample\": 2.5945945945945943}, {\"timestamp\": 8, \"kind\": \"less-slow\", \"sample\": 3.2837837837837838}, {\"timestamp\": 9, \"kind\": \"less-slow\", \"sample\": 4.0540540540540535}, {\"timestamp\": 10, \"kind\": \"less-slow\", \"sample\": 4.905405405405405}, {\"timestamp\": 11, \"kind\": \"less-slow\", \"sample\": 5.837837837837838}, {\"timestamp\": 12, \"kind\": \"less-slow\", \"sample\": 6.851351351351351}, {\"timestamp\": 13, \"kind\": \"less-slow\", \"sample\": 7.945945945945946}, {\"timestamp\": 14, \"kind\": \"less-slow\", \"sample\": 9.121621621621621}, {\"timestamp\": 15, \"kind\": \"less-slow\", \"sample\": 10.378378378378377}, {\"timestamp\": 16, \"kind\": \"less-slow\", \"sample\": 11.716216216216216}, {\"timestamp\": 17, \"kind\": \"less-slow\", \"sample\": 13.135135135135135}, {\"timestamp\": 18, \"kind\": \"less-slow\", \"sample\": 14.635135135135135}, {\"timestamp\": 19, \"kind\": \"less-slow\", \"sample\": 16.216216216216214}, {\"timestamp\": 20, \"kind\": \"less-slow\", \"sample\": 17.87837837837838}, {\"timestamp\": 21, \"kind\": \"less-slow\", \"sample\": 19.62162162162162}, {\"timestamp\": 22, \"kind\": \"less-slow\", \"sample\": 21.445945945945944}, {\"timestamp\": 23, \"kind\": \"less-slow\", \"sample\": 23.35135135135135}, {\"timestamp\": 24, \"kind\": \"less-slow\", \"sample\": 25.337837837837835}, {\"timestamp\": 25, \"kind\": \"less-slow\", \"sample\": 27.405405405405403}, {\"timestamp\": 26, \"kind\": \"less-slow\", \"sample\": 29.554054054054053}, {\"timestamp\": 27, \"kind\": \"less-slow\", \"sample\": 31.783783783783782}, {\"timestamp\": 28, \"kind\": \"less-slow\", \"sample\": 34.0945945945946}, {\"timestamp\": 29, \"kind\": \"less-slow\", \"sample\": 36.486486486486484}, {\"timestamp\": 30, \"kind\": \"less-slow\", \"sample\": 38.95945945945946}, {\"timestamp\": 31, \"kind\": \"less-slow\", \"sample\": 41.51351351351351}, {\"timestamp\": 32, \"kind\": \"less-slow\", \"sample\": 44.148648648648646}, {\"timestamp\": 33, \"kind\": \"less-slow\", \"sample\": 46.86486486486486}, {\"timestamp\": 34, \"kind\": \"less-slow\", \"sample\": 49.66216216216216}, {\"timestamp\": 35, \"kind\": \"less-slow\", \"sample\": 52.54054054054054}, {\"timestamp\": 36, \"kind\": \"less-slow\", \"sample\": 55.5}, {\"timestamp\": 37, \"kind\": \"less-slow\", \"sample\": 58.54054054054054}, {\"timestamp\": 38, \"kind\": \"less-slow\", \"sample\": 61.662162162162154}, {\"timestamp\": 39, \"kind\": \"less-slow\", \"sample\": 64.86486486486486}, {\"timestamp\": 40, \"kind\": \"less-slow\", \"sample\": 68.14864864864865}, {\"timestamp\": 41, \"kind\": \"less-slow\", \"sample\": 71.51351351351352}, {\"timestamp\": 42, \"kind\": \"less-slow\", \"sample\": 74.95945945945945}, {\"timestamp\": 43, \"kind\": \"less-slow\", \"sample\": 78.48648648648648}, {\"timestamp\": 44, \"kind\": \"less-slow\", \"sample\": 82.0945945945946}, {\"timestamp\": 45, \"kind\": \"less-slow\", \"sample\": 85.78378378378378}, {\"timestamp\": 46, \"kind\": \"less-slow\", \"sample\": 89.55405405405405}, {\"timestamp\": 47, \"kind\": \"less-slow\", \"sample\": 93.4054054054054}, {\"timestamp\": 48, \"kind\": \"less-slow\", \"sample\": 97.33783783783784}, {\"timestamp\": 49, \"kind\": \"less-slow\", \"sample\": 101.35135135135134}, {\"timestamp\": 50, \"kind\": \"less-slow\", \"sample\": 105.44594594594595}, {\"timestamp\": 51, \"kind\": \"less-slow\", \"sample\": 109.62162162162161}, {\"timestamp\": 52, \"kind\": \"less-slow\", \"sample\": 113.87837837837839}, {\"timestamp\": 53, \"kind\": \"less-slow\", \"sample\": 118.21621621621621}, {\"timestamp\": 54, \"kind\": \"less-slow\", \"sample\": 122.63513513513514}, {\"timestamp\": 55, \"kind\": \"less-slow\", \"sample\": 127.13513513513513}, {\"timestamp\": 56, \"kind\": \"less-slow\", \"sample\": 131.7162162162162}, {\"timestamp\": 57, \"kind\": \"less-slow\", \"sample\": 136.3783783783784}, {\"timestamp\": 58, \"kind\": \"less-slow\", \"sample\": 141.1216216216216}, {\"timestamp\": 59, \"kind\": \"less-slow\", \"sample\": 145.94594594594594}, {\"timestamp\": 60, \"kind\": \"less-slow\", \"sample\": 150.85135135135135}, {\"timestamp\": 61, \"kind\": \"less-slow\", \"sample\": 155.83783783783784}, {\"timestamp\": 62, \"kind\": \"less-slow\", \"sample\": 160.9054054054054}, {\"timestamp\": 63, \"kind\": \"less-slow\", \"sample\": 166.05405405405403}, {\"timestamp\": 64, \"kind\": \"less-slow\", \"sample\": 171.28378378378378}, {\"timestamp\": 65, \"kind\": \"less-slow\", \"sample\": 176.59459459459458}, {\"timestamp\": 66, \"kind\": \"less-slow\", \"sample\": 181.98648648648648}, {\"timestamp\": 67, \"kind\": \"less-slow\", \"sample\": 187.45945945945945}, {\"timestamp\": 68, \"kind\": \"less-slow\", \"sample\": 193.01351351351352}, {\"timestamp\": 69, \"kind\": \"less-slow\", \"sample\": 198.64864864864865}, {\"timestamp\": 70, \"kind\": \"less-slow\", \"sample\": 204.36486486486484}, {\"timestamp\": 71, \"kind\": \"less-slow\", \"sample\": 210.16216216216216}, {\"timestamp\": 72, \"kind\": \"less-slow\", \"sample\": 216.04054054054052}, {\"timestamp\": 73, \"kind\": \"less-slow\", \"sample\": 222.0}, {\"timestamp\": 74, \"kind\": \"less-slow\", \"sample\": 228.04054054054052}, {\"timestamp\": 75, \"kind\": \"less-slow\", \"sample\": 234.16216216216216}, {\"timestamp\": 76, \"kind\": \"less-slow\", \"sample\": 240.36486486486484}, {\"timestamp\": 77, \"kind\": \"less-slow\", \"sample\": 246.64864864864862}, {\"timestamp\": 78, \"kind\": \"less-slow\", \"sample\": 253.01351351351352}, {\"timestamp\": 79, \"kind\": \"less-slow\", \"sample\": 259.4594594594594}, {\"timestamp\": 80, \"kind\": \"less-slow\", \"sample\": 265.9864864864865}, {\"timestamp\": 81, \"kind\": \"less-slow\", \"sample\": 272.5945945945946}, {\"timestamp\": 82, \"kind\": \"less-slow\", \"sample\": 279.2837837837838}, {\"timestamp\": 83, \"kind\": \"less-slow\", \"sample\": 286.05405405405406}, {\"timestamp\": 84, \"kind\": \"less-slow\", \"sample\": 292.90540540540536}, {\"timestamp\": 85, \"kind\": \"less-slow\", \"sample\": 299.8378378378378}, {\"timestamp\": 86, \"kind\": \"less-slow\", \"sample\": 306.85135135135135}, {\"timestamp\": 87, \"kind\": \"less-slow\", \"sample\": 313.94594594594594}, {\"timestamp\": 88, \"kind\": \"less-slow\", \"sample\": 321.1216216216216}, {\"timestamp\": 89, \"kind\": \"less-slow\", \"sample\": 328.3783783783784}, {\"timestamp\": 90, \"kind\": \"less-slow\", \"sample\": 335.7162162162162}, {\"timestamp\": 91, \"kind\": \"less-slow\", \"sample\": 343.1351351351351}, {\"timestamp\": 92, \"kind\": \"less-slow\", \"sample\": 350.6351351351351}, {\"timestamp\": 93, \"kind\": \"less-slow\", \"sample\": 358.2162162162162}, {\"timestamp\": 94, \"kind\": \"less-slow\", \"sample\": 365.8783783783784}, {\"timestamp\": 95, \"kind\": \"less-slow\", \"sample\": 373.6216216216216}, {\"timestamp\": 96, \"kind\": \"less-slow\", \"sample\": 381.44594594594594}, {\"timestamp\": 97, \"kind\": \"less-slow\", \"sample\": 389.35135135135135}, {\"timestamp\": 98, \"kind\": \"less-slow\", \"sample\": 397.3378378378378}, {\"timestamp\": 99, \"kind\": \"less-slow\", \"sample\": 818.9189189189188}, {\"timestamp\": 100, \"kind\": \"less-slow\", \"sample\": 835.2972972972973}, {\"timestamp\": 101, \"kind\": \"less-slow\", \"sample\": 851.8378378378378}, {\"timestamp\": 102, \"kind\": \"less-slow\", \"sample\": 868.5405405405405}, {\"timestamp\": 103, \"kind\": \"less-slow\", \"sample\": 885.4054054054053}, {\"timestamp\": 104, \"kind\": \"less-slow\", \"sample\": 902.4324324324323}, {\"timestamp\": 105, \"kind\": \"less-slow\", \"sample\": 919.6216216216217}, {\"timestamp\": 106, \"kind\": \"less-slow\", \"sample\": 936.9729729729729}, {\"timestamp\": 107, \"kind\": \"less-slow\", \"sample\": 954.4864864864865}, {\"timestamp\": 108, \"kind\": \"less-slow\", \"sample\": 972.1621621621621}, {\"timestamp\": 109, \"kind\": \"less-slow\", \"sample\": 990.0}, {\"timestamp\": 110, \"kind\": \"less-slow\", \"sample\": 1008.0}, {\"timestamp\": 111, \"kind\": \"less-slow\", \"sample\": 1026.162162162162}, {\"timestamp\": 112, \"kind\": \"less-slow\", \"sample\": 1044.4864864864865}, {\"timestamp\": 113, \"kind\": \"less-slow\", \"sample\": 1062.972972972973}, {\"timestamp\": 114, \"kind\": \"less-slow\", \"sample\": 1081.6216216216217}, {\"timestamp\": 115, \"kind\": \"less-slow\", \"sample\": 1100.4324324324325}, {\"timestamp\": 116, \"kind\": \"less-slow\", \"sample\": 1119.4054054054054}, {\"timestamp\": 117, \"kind\": \"less-slow\", \"sample\": 1138.5405405405404}, {\"timestamp\": 118, \"kind\": \"less-slow\", \"sample\": 1157.8378378378377}, {\"timestamp\": 119, \"kind\": \"less-slow\", \"sample\": 1177.2972972972973}, {\"timestamp\": 120, \"kind\": \"less-slow\", \"sample\": 1196.918918918919}, {\"timestamp\": 121, \"kind\": \"less-slow\", \"sample\": 1216.7027027027027}, {\"timestamp\": 122, \"kind\": \"less-slow\", \"sample\": 1236.6486486486485}, {\"timestamp\": 123, \"kind\": \"less-slow\", \"sample\": 1256.7567567567569}, {\"timestamp\": 124, \"kind\": \"less-slow\", \"sample\": 1277.027027027027}, {\"timestamp\": 125, \"kind\": \"less-slow\", \"sample\": 1297.4594594594594}, {\"timestamp\": 126, \"kind\": \"less-slow\", \"sample\": 1318.054054054054}, {\"timestamp\": 127, \"kind\": \"less-slow\", \"sample\": 1338.8108108108106}, {\"timestamp\": 128, \"kind\": \"less-slow\", \"sample\": 1359.7297297297298}, {\"timestamp\": 129, \"kind\": \"less-slow\", \"sample\": 1380.8108108108108}, {\"timestamp\": 130, \"kind\": \"less-slow\", \"sample\": 1402.054054054054}, {\"timestamp\": 131, \"kind\": \"less-slow\", \"sample\": 1423.4594594594594}, {\"timestamp\": 132, \"kind\": \"less-slow\", \"sample\": 1445.0270270270269}, {\"timestamp\": 133, \"kind\": \"less-slow\", \"sample\": 1466.7567567567567}, {\"timestamp\": 134, \"kind\": \"less-slow\", \"sample\": 1488.6486486486485}, {\"timestamp\": 135, \"kind\": \"less-slow\", \"sample\": 1510.7027027027027}, {\"timestamp\": 136, \"kind\": \"less-slow\", \"sample\": 1532.9189189189187}, {\"timestamp\": 137, \"kind\": \"less-slow\", \"sample\": 1555.2972972972973}, {\"timestamp\": 138, \"kind\": \"less-slow\", \"sample\": 1577.837837837838}, {\"timestamp\": 139, \"kind\": \"less-slow\", \"sample\": 1600.5405405405404}, {\"timestamp\": 140, \"kind\": \"less-slow\", \"sample\": 1623.4054054054052}, {\"timestamp\": 141, \"kind\": \"less-slow\", \"sample\": 1646.4324324324323}, {\"timestamp\": 142, \"kind\": \"less-slow\", \"sample\": 1669.6216216216217}, {\"timestamp\": 143, \"kind\": \"less-slow\", \"sample\": 1692.972972972973}, {\"timestamp\": 144, \"kind\": \"less-slow\", \"sample\": 1716.4864864864865}, {\"timestamp\": 145, \"kind\": \"less-slow\", \"sample\": 1740.162162162162}, {\"timestamp\": 146, \"kind\": \"less-slow\", \"sample\": 1763.9999999999998}, {\"timestamp\": 147, \"kind\": \"less-slow\", \"sample\": 1788.0}, {\"timestamp\": 0, \"kind\": \"fast\", \"sample\": 19.0}, {\"timestamp\": 1, \"kind\": \"fast\", \"sample\": 38.0}, {\"timestamp\": 2, \"kind\": \"fast\", \"sample\": 57.0}, {\"timestamp\": 3, \"kind\": \"fast\", \"sample\": 76.0}, {\"timestamp\": 4, \"kind\": \"fast\", \"sample\": 95.0}, {\"timestamp\": 5, \"kind\": \"fast\", \"sample\": 114.0}, {\"timestamp\": 6, \"kind\": \"fast\", \"sample\": 133.0}, {\"timestamp\": 7, \"kind\": \"fast\", \"sample\": 152.0}, {\"timestamp\": 8, \"kind\": \"fast\", \"sample\": 171.0}, {\"timestamp\": 9, \"kind\": \"fast\", \"sample\": 190.0}, {\"timestamp\": 10, \"kind\": \"fast\", \"sample\": 209.0}, {\"timestamp\": 11, \"kind\": \"fast\", \"sample\": 228.0}, {\"timestamp\": 12, \"kind\": \"fast\", \"sample\": 247.0}, {\"timestamp\": 13, \"kind\": \"fast\", \"sample\": 266.0}, {\"timestamp\": 14, \"kind\": \"fast\", \"sample\": 285.0}, {\"timestamp\": 15, \"kind\": \"fast\", \"sample\": 304.0}, {\"timestamp\": 16, \"kind\": \"fast\", \"sample\": 323.0}, {\"timestamp\": 17, \"kind\": \"fast\", \"sample\": 342.0}, {\"timestamp\": 18, \"kind\": \"fast\", \"sample\": 361.0}, {\"timestamp\": 19, \"kind\": \"fast\", \"sample\": 380.0}, {\"timestamp\": 20, \"kind\": \"fast\", \"sample\": 399.0}, {\"timestamp\": 21, \"kind\": \"fast\", \"sample\": 418.0}, {\"timestamp\": 22, \"kind\": \"fast\", \"sample\": 437.0}, {\"timestamp\": 23, \"kind\": \"fast\", \"sample\": 456.0}, {\"timestamp\": 24, \"kind\": \"fast\", \"sample\": 475.0}, {\"timestamp\": 25, \"kind\": \"fast\", \"sample\": 494.0}, {\"timestamp\": 26, \"kind\": \"fast\", \"sample\": 513.0}, {\"timestamp\": 27, \"kind\": \"fast\", \"sample\": 532.0}, {\"timestamp\": 28, \"kind\": \"fast\", \"sample\": 551.0}, {\"timestamp\": 29, \"kind\": \"fast\", \"sample\": 570.0}, {\"timestamp\": 30, \"kind\": \"fast\", \"sample\": 589.0}, {\"timestamp\": 31, \"kind\": \"fast\", \"sample\": 608.0}, {\"timestamp\": 32, \"kind\": \"fast\", \"sample\": 627.0}, {\"timestamp\": 33, \"kind\": \"fast\", \"sample\": 646.0}, {\"timestamp\": 34, \"kind\": \"fast\", \"sample\": 665.0}, {\"timestamp\": 35, \"kind\": \"fast\", \"sample\": 684.0}, {\"timestamp\": 36, \"kind\": \"fast\", \"sample\": 703.0}, {\"timestamp\": 37, \"kind\": \"fast\", \"sample\": 722.0}, {\"timestamp\": 38, \"kind\": \"fast\", \"sample\": 741.0}, {\"timestamp\": 39, \"kind\": \"fast\", \"sample\": 760.0}, {\"timestamp\": 40, \"kind\": \"fast\", \"sample\": 779.0}, {\"timestamp\": 41, \"kind\": \"fast\", \"sample\": 798.0}, {\"timestamp\": 42, \"kind\": \"fast\", \"sample\": 817.0}, {\"timestamp\": 43, \"kind\": \"fast\", \"sample\": 836.0}, {\"timestamp\": 44, \"kind\": \"fast\", \"sample\": 855.0}, {\"timestamp\": 45, \"kind\": \"fast\", \"sample\": 874.0}, {\"timestamp\": 46, \"kind\": \"fast\", \"sample\": 893.0}, {\"timestamp\": 47, \"kind\": \"fast\", \"sample\": 912.0}, {\"timestamp\": 48, \"kind\": \"fast\", \"sample\": 931.0}, {\"timestamp\": 49, \"kind\": \"fast\", \"sample\": 950.0}, {\"timestamp\": 50, \"kind\": \"fast\", \"sample\": 969.0}, {\"timestamp\": 51, \"kind\": \"fast\", \"sample\": 988.0}, {\"timestamp\": 52, \"kind\": \"fast\", \"sample\": 1007.0}, {\"timestamp\": 53, \"kind\": \"fast\", \"sample\": 1026.0}, {\"timestamp\": 54, \"kind\": \"fast\", \"sample\": 1045.0}, {\"timestamp\": 55, \"kind\": \"fast\", \"sample\": 1064.0}, {\"timestamp\": 56, \"kind\": \"fast\", \"sample\": 1083.0}, {\"timestamp\": 57, \"kind\": \"fast\", \"sample\": 1102.0}, {\"timestamp\": 58, \"kind\": \"fast\", \"sample\": 1121.0}, {\"timestamp\": 59, \"kind\": \"fast\", \"sample\": 1140.0}, {\"timestamp\": 60, \"kind\": \"fast\", \"sample\": 1159.0}, {\"timestamp\": 61, \"kind\": \"fast\", \"sample\": 1178.0}, {\"timestamp\": 62, \"kind\": \"fast\", \"sample\": 1197.0}, {\"timestamp\": 63, \"kind\": \"fast\", \"sample\": 1216.0}, {\"timestamp\": 64, \"kind\": \"fast\", \"sample\": 1235.0}, {\"timestamp\": 65, \"kind\": \"fast\", \"sample\": 1254.0}, {\"timestamp\": 66, \"kind\": \"fast\", \"sample\": 1273.0}, {\"timestamp\": 67, \"kind\": \"fast\", \"sample\": 1292.0}, {\"timestamp\": 68, \"kind\": \"fast\", \"sample\": 1311.0}, {\"timestamp\": 69, \"kind\": \"fast\", \"sample\": 1330.0}, {\"timestamp\": 70, \"kind\": \"fast\", \"sample\": 1349.0}, {\"timestamp\": 71, \"kind\": \"fast\", \"sample\": 1368.0}, {\"timestamp\": 72, \"kind\": \"fast\", \"sample\": 1387.0}, {\"timestamp\": 73, \"kind\": \"fast\", \"sample\": 1406.0}, {\"timestamp\": 74, \"kind\": \"fast\", \"sample\": 1425.0}, {\"timestamp\": 75, \"kind\": \"fast\", \"sample\": 1444.0}, {\"timestamp\": 76, \"kind\": \"fast\", \"sample\": 1463.0}, {\"timestamp\": 77, \"kind\": \"fast\", \"sample\": 1482.0}, {\"timestamp\": 78, \"kind\": \"fast\", \"sample\": 1501.0}, {\"timestamp\": 79, \"kind\": \"fast\", \"sample\": 1520.0}, {\"timestamp\": 80, \"kind\": \"fast\", \"sample\": 1539.0}, {\"timestamp\": 81, \"kind\": \"fast\", \"sample\": 1558.0}, {\"timestamp\": 82, \"kind\": \"fast\", \"sample\": 1577.0}, {\"timestamp\": 83, \"kind\": \"fast\", \"sample\": 1596.0}, {\"timestamp\": 84, \"kind\": \"fast\", \"sample\": 1615.0}, {\"timestamp\": 85, \"kind\": \"fast\", \"sample\": 1634.0}, {\"timestamp\": 86, \"kind\": \"fast\", \"sample\": 1653.0}, {\"timestamp\": 87, \"kind\": \"fast\", \"sample\": 1672.0}, {\"timestamp\": 88, \"kind\": \"fast\", \"sample\": 1691.0}, {\"timestamp\": 89, \"kind\": \"fast\", \"sample\": 1710.0}, {\"timestamp\": 90, \"kind\": \"fast\", \"sample\": 1729.0}, {\"timestamp\": 91, \"kind\": \"fast\", \"sample\": 1748.0}, {\"timestamp\": 92, \"kind\": \"fast\", \"sample\": 1767.0}, {\"timestamp\": 93, \"kind\": \"fast\", \"sample\": 1786.0}, {\"timestamp\": 94, \"kind\": \"fast\", \"sample\": 1805.0}, {\"timestamp\": 95, \"kind\": \"fast\", \"sample\": 1824.0}, {\"timestamp\": 96, \"kind\": \"fast\", \"sample\": 1843.0}, {\"timestamp\": 97, \"kind\": \"fast\", \"sample\": 1862.0}, {\"timestamp\": 98, \"kind\": \"fast\", \"sample\": 1881.0}, {\"timestamp\": 99, \"kind\": \"fast\", \"sample\": 3838.0}, {\"timestamp\": 100, \"kind\": \"fast\", \"sample\": 3876.0}, {\"timestamp\": 101, \"kind\": \"fast\", \"sample\": 3914.0}, {\"timestamp\": 102, \"kind\": \"fast\", \"sample\": 3952.0}, {\"timestamp\": 103, \"kind\": \"fast\", \"sample\": 3990.0}, {\"timestamp\": 104, \"kind\": \"fast\", \"sample\": 4028.0}, {\"timestamp\": 105, \"kind\": \"fast\", \"sample\": 4066.0}, {\"timestamp\": 106, \"kind\": \"fast\", \"sample\": 4104.0}, {\"timestamp\": 107, \"kind\": \"fast\", \"sample\": 4142.0}, {\"timestamp\": 108, \"kind\": \"fast\", \"sample\": 4180.0}, {\"timestamp\": 109, \"kind\": \"fast\", \"sample\": 4218.0}, {\"timestamp\": 110, \"kind\": \"fast\", \"sample\": 4256.0}, {\"timestamp\": 111, \"kind\": \"fast\", \"sample\": 4294.0}, {\"timestamp\": 112, \"kind\": \"fast\", \"sample\": 4332.0}, {\"timestamp\": 113, \"kind\": \"fast\", \"sample\": 4370.0}, {\"timestamp\": 114, \"kind\": \"fast\", \"sample\": 4408.0}, {\"timestamp\": 115, \"kind\": \"fast\", \"sample\": 4446.0}, {\"timestamp\": 116, \"kind\": \"fast\", \"sample\": 4484.0}, {\"timestamp\": 117, \"kind\": \"fast\", \"sample\": 4522.0}, {\"timestamp\": 118, \"kind\": \"fast\", \"sample\": 4560.0}, {\"timestamp\": 119, \"kind\": \"fast\", \"sample\": 4598.0}, {\"timestamp\": 120, \"kind\": \"fast\", \"sample\": 4636.0}, {\"timestamp\": 121, \"kind\": \"fast\", \"sample\": 4674.0}, {\"timestamp\": 122, \"kind\": \"fast\", \"sample\": 4712.0}, {\"timestamp\": 123, \"kind\": \"fast\", \"sample\": 4750.0}, {\"timestamp\": 124, \"kind\": \"fast\", \"sample\": 4788.0}, {\"timestamp\": 125, \"kind\": \"fast\", \"sample\": 4826.0}, {\"timestamp\": 126, \"kind\": \"fast\", \"sample\": 4864.0}, {\"timestamp\": 127, \"kind\": \"fast\", \"sample\": 4902.0}, {\"timestamp\": 128, \"kind\": \"fast\", \"sample\": 4940.0}, {\"timestamp\": 129, \"kind\": \"fast\", \"sample\": 4978.0}, {\"timestamp\": 130, \"kind\": \"fast\", \"sample\": 5016.0}, {\"timestamp\": 131, \"kind\": \"fast\", \"sample\": 5054.0}, {\"timestamp\": 132, \"kind\": \"fast\", \"sample\": 5092.0}, {\"timestamp\": 133, \"kind\": \"fast\", \"sample\": 5130.0}, {\"timestamp\": 134, \"kind\": \"fast\", \"sample\": 5168.0}, {\"timestamp\": 135, \"kind\": \"fast\", \"sample\": 5206.0}, {\"timestamp\": 136, \"kind\": \"fast\", \"sample\": 5244.0}, {\"timestamp\": 137, \"kind\": \"fast\", \"sample\": 5282.0}, {\"timestamp\": 138, \"kind\": \"fast\", \"sample\": 5320.0}, {\"timestamp\": 139, \"kind\": \"fast\", \"sample\": 5358.0}, {\"timestamp\": 140, \"kind\": \"fast\", \"sample\": 5396.0}, {\"timestamp\": 141, \"kind\": \"fast\", \"sample\": 5434.0}, {\"timestamp\": 142, \"kind\": \"fast\", \"sample\": 5472.0}, {\"timestamp\": 143, \"kind\": \"fast\", \"sample\": 5510.0}, {\"timestamp\": 144, \"kind\": \"fast\", \"sample\": 5548.0}, {\"timestamp\": 145, \"kind\": \"fast\", \"sample\": 5586.0}, {\"timestamp\": 146, \"kind\": \"fast\", \"sample\": 5624.0}, {\"timestamp\": 147, \"kind\": \"fast\", \"sample\": 5662.0}]}}, {\"mode\": \"vega-lite\"});\n",
       "</script>"
      ],
      "text/plain": [
       "alt.Chart(...)"
      ]
     },
     "execution_count": 10,
     "metadata": {},
     "output_type": "execute_result"
    }
   ],
   "source": [
    "alt.Chart(data2).mark_line().encode(alt.X(\"timestamp\"), \n",
    "                                    alt.Y(\"sample\", scale=alt.Scale(type=\"log\")), \n",
    "                                    color=\"kind\").interactive()\n",
    "\n",
    "\n"
   ]
  },
  {
   "cell_type": "code",
   "execution_count": null,
   "metadata": {},
   "outputs": [],
   "source": []
  }
 ],
 "metadata": {
  "kernelspec": {
   "display_name": "Python 3",
   "language": "python",
   "name": "python3"
  },
  "language_info": {
   "codemirror_mode": {
    "name": "ipython",
    "version": 3
   },
   "file_extension": ".py",
   "mimetype": "text/x-python",
   "name": "python",
   "nbconvert_exporter": "python",
   "pygments_lexer": "ipython3",
   "version": "3.7.5"
  }
 },
 "nbformat": 4,
 "nbformat_minor": 4
}
